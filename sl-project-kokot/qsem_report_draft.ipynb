{
  "cells": [
    {
      "cell_type": "markdown",
      "metadata": {
        "id": "sXIVpXS3kmRB"
      },
      "source": [
        "# Mapping Interrogative Meanings: Cross-lingual Experiments With Transformer Representations of Questions\n",
        "\n",
        "**Author:** Robin Kokot\n",
        "**Course:** Scripting Languages (G0W95B)\n",
        "**Academic year:** 2024/2025\n",
        "\n",
        "---\n"
      ]
    },
    {
      "cell_type": "markdown",
      "metadata": {
        "id": "SOerPV3ckmRE"
      },
      "source": [
        "## Introduction\n",
        "\n",
        "In traditional approaches to sentence similarity, the goal is usually to determine how similar two sentences are in terms of their meaning or semantic content. This particular group of tasks, often called Semantic Textual Similarity (STS), is used in Natural Language Processing (NLP) as a way to either evaluate the performance of Language Models (LLMs) or to measure semantic overlap between text documents. There are different kinds of STS tasks, and a natural way to group them is by the specific type of similarity they focus on. Consider the following pairs of sentences that can be described as similar (in both cases, A is similar to B), but notice that each measure can be described differently:\n",
        "\n",
        "1. A: This movie is worth watching. B: Watching this film will change your life!\n",
        "2. A: John never married. B: John remained a bachelor.\n",
        "\n",
        "We could say that the first two sentences are similar because they have a similar (positive) sentiment. However, the second pair of sentences is not similar in the same sense. This simple example illustrates that there are different kinds and degrees of semantic similairity. The kind of semantic similarity discussed here best illustrated with the following example:\n",
        "\n",
        "3. A: Is this movie better or worse than the last one you saw? B: Isn't it this movie that is better than the last one?\n",
        "\n",
        "One way of describing the similarity between these two questions is by pointing out that the propositional content of the two sentences is about similar things, and both sentences use the content in a similar function, namely to compare. To properly account for the way in which these sentences are similar we would have to map the content of the question in the semantic space of all sentences and approximate similarity with distance. In the case of sentences from different languages, performance usually correlates with the capacity to represent translations as having similar semantic content. Luckily for us, high-performing models allow us to investigate the ways in which the questions from the example above are distinct.\n",
        "\n",
        "Modern NLP techniques rely heavily on text embeddings. These are dense vector representations of text that capture semantic and syntactic information. While there has been extensive research on *sentence* embeddings, understanding features of any sentence as a whole and how its linguistic properties are encoded in these embeddings hasn't been perfectly straightforward. Therefore, rather than casting a wide net over all types of sentences, focusing on questions allows us to probe vector representations of natural language sentences that share similar linguistic properties, in this case the context of interrogative intent. Interrogative intent is a pragmatic phenomenon which makes us understand the semantic content of questions as raising issues or eliciting information. This in contrast with the traditional way of considering questions as bearers of classical propositions which differ from indicative sentences in pragmatic effects alone. From this angle, what interest us about questions is the manner in which they raise an issue, and how this correlates with the features of propositional content.\n",
        "\n",
        "More robust multilingual language model architectures are often placed in the spotlight due to the capacity of their vector embeddings to capture diverse semantic nuances in many languages. The main idea behind STS is to interpret similarity measures between vector representations of natural language sentences in a way that accounts for the degree to which the meanings and sometimes functions of these sentences overlap. Keeping this aim in mind, this report describes a new approach to STS which introduces a linguistic similarity measure that reflects typological variety in question formation patterns and overlap in interrogative intent. The main aim of this approach is to explore how multilingual LLMs represent the semantic content of questions. This area of research could benefit from more attention because understanding the relationship between sentences that express questions and internal vector representations of these sentences could help us better understand the nature of interrogative linguistic intent.\n",
        "\n",
        "Consider this pair of questions:\n",
        "\n",
        "1. A. Can I take my dog there? B. What is their pet policy?\n",
        "\n",
        "Although these questions evoke similar interrogative intent and raise similar issues, their structural differences demonstrate that sufficiently understanding a question's meaning requires comprehending both the issue it raises (often associated with its propositional content) and how it raises that issue (related to its interrogative type). Based on these two requirements, we adopt a working assumption that morphosyntactic markers provide information about the kind of proposition at issue, while typological features indicate the type of answer that would resolve the issue. Keeping this assumption we set off to investigate the following research questions:\n",
        "\n",
        "  a. Are questions that share a meaning and raise the same issue always represented similarly in multilingual language models?\n",
        "\n",
        "  b. Do all languages converge into a single way of representing linguistic features of questions in these models?\n",
        "\n",
        "We hypothesize that while questions with similar meanings and interrogative intent may exhibit similar vector representations, the specific linguistic features and typological differences across languages will lead to some divergence in how these questions are encoded in multilingual language models. By exploring these research questions, we seek to gain insights into the nature of interrogative linguistic intent and its representation in multilingual NLP models.\n",
        "\n",
        "\n",
        "\n",
        "\n"
      ]
    },
    {
      "cell_type": "markdown",
      "metadata": {},
      "source": [
        "\n",
        "### Task Description: Multilingual Question Semantics\n",
        "\n",
        "\n",
        "The primary focus of this study is to investigate whether multilingual language models represent semantically similar questions with similar internal representations. Pairwise sentence scoring tasks, which are widely used in NLP, often employ language models specifically designed for sentence processing. While the choice of model depends on the task at hand, most state-of-the-art LLMs relevant for STS tasks are essentially variations of the Bi-encoder architectures described in (Reimers, Gurevych 2019). Setting aside model differences for the moment, the usual pipeline for these tasks can be described in two steps:\n",
        "\n",
        "1. Generate embeddings: Take a question as input and generate a sentence embedding that represents its semantic meaning in a vector space.\n",
        "\n",
        "2. Compare embeddings: Calculate the cosine similarity between the target and source embeddings, where a higher score indicates greater semantic similarity between the questions.\n",
        "\n",
        "3. Analyze Feature Co-occurrence: Relate the cosine similarity scores with the presence of different linguistic features of question sentences.\n",
        "\n",
        "For this investigation, we have chosen the paraphrase-multilingual-MiniLM-L12-v2 model, which is provided by the Sentence Transformers library (https://www.sbert.net/). This multilingual sentence embedding model is based on the MiniLM architecture and has been fine-tuned on a multilingual paraphrase dataset. It generates semantically meaningful sentence embeddings across multiple languages, enabling efficient comparison of vector embeddings for translation pairs. The architecture is essentially a sentence transformer that uses a Siamese network structure with a MiniLM-L12 transformer, as described by (Reimers, Gurevych 2019).\n",
        "Siamese network structures are an approach to sentence transformer architectures that aim to overcome the issue of generating high-quality, uniform-shape embeddings for variable-length sentences. (Reimers, Gurevych 2019) proposed an approach that uses a Siamese neural network architecture with a pre-trained BERT model to encode two sentences and compute their similarity based on the cosine distance between their embeddings. This approach is intended to address the limitations of traditional methods that rely on simple averaging or concatenation of word embeddings to represent sentences, which often fail to capture the complexity and nuance of natural language.\n",
        "\n",
        "This report explores the representation of semantically similar questions in multilingual language models. It differs from approaches that attempt to understand the mapping of linguistic properties to text-vector embeddings. The task described in this report breaks from traditional approaches in that it does not evaluate the performance of language models when predicting sentence similarity, nor does it attempt to measure similarity between sentences or documents. The task described below investigates whether similar meanings in natural language determine the similarity between internal model representations and whether some linguistic features of natural language sentences have a greater effect on how meaning is represented in LLMs. Under the assumption that cosine similarity functions as an analogue of linguistic similarity.\n",
        "\n",
        "By exploring the following pair of hypotheses and analyzing the variation in the representation of questions across languages, we want to understand how multilingual language models encode meaning and interrogative intent. This research has the potential to contribute to the development of more informed and interpretable multilingual NLP models for question-answering tasks.\n",
        "\n",
        "**Typological hypotheses:**\n",
        "\n",
        "Language specific word-order properties can affect the presence of some feature type combinations and correlate with the model's similarity scores. For example, sentence features common in SVO languages, such as clefting, may lead to lower similarity scores when comparing non SVO and SVO languages.\n",
        "\n",
        "\n",
        "**Morphosyntactic hypotheses:**\n",
        "\n",
        "The co-occurrence of specific morphosyntactic markers in a sentence relates to its interrogative type and affects the model's representation of semantic meaning measured by similarity scores.\n",
        "\n"
      ]
    },
    {
      "cell_type": "markdown",
      "metadata": {
        "id": "WevMyyK2kmRG"
      },
      "source": [
        "### Dataset\n",
        "\n",
        "A multilingual question pair dataset was developed to support the research. The primary goal was to create a resource that enables investigation into how linguistic features and typological differences influence the encoding of interrogative intent and content.\n",
        "\n",
        "The dataset currently includes question pairs in five languages: Afrikaans (af), Arabic (ar), English (en), Indonesian (id), and Marathi (mr). These languages were selected to represent a range of language families and typological characteristics, while also considering the availability of parallel question-answer data from the NLLB corpus (Tiedemann 2012, Schwenk 2020). The final dataset consists of ~100k professionally translated question pairs compiled by scraping a variety of data domains. The data consists of translation pairs in (ar-en, mr-en, id-en, af-en). The english sentences of this dataset have been annotated with linguistic features from 2 categories. The first are morphosyntactic markers in the propositions of the question sentences, namely cleft, negation, modality, quantification, and comparison. The second category contains only question type features, namely either polar question, alternative question, wh-question, conditional question. Notably, each sentences can have several features from the first category, and a single type. Our research makes use of these features for investigating the interpretability of llm embeddings of these sentence pairs. First, the features in each sentence are encoded using a multi label binarizer to give multi label encodings, which are then passed on to a language model (sentence-transformers/paraphrase-multilingual-MiniLM-L12-v2) and analysis is ultimately focused on the similarity between source and target(en) embeddings.\n",
        "\n",
        "Each example includes the source question, its English translation, language identifier, and the annotated linguistic features for the information/proposition and the question type. The dataset is provided in a structured CSV format, along with the original JSON files and the preprocessing scripts for transparency and reproducibility. For more details about dataset creation, and to make custom size test sets, see Appendix A."
      ]
    },
    {
      "cell_type": "markdown",
      "metadata": {},
      "source": [
        "## Methodology\n",
        "\n",
        "The experiment described in this report was largely influenced by the research carried out in the scope of the SBERT projects (sbert.net) and the HF sentence transformers organization. All of the standard models offered by Sentence Transformers have been extensively evaluated for their quality in embedding sentences (Performance Sentence Embeddings) and embedding search queries & paragraphs (Performance Semantic Search) (Devlin et al. 2019, Reimers, Gurevych 2019).\n",
        "\n",
        "Our experimental setup follows the standard LLM embeddings comparison pipeline. However, the objective here is not to evaluate the model's performance in downstream tasks, but to investigate how the model represents questions in the embeddings space, and the relation between linguistic features and the internal vector representations. \n",
        "\n",
        "\n",
        "#### Embeddings:\n",
        "\n",
        "Feature Encoding: Linguistic features in each question are encoded using a multi-label binarizer, resulting in multi-label encodings for each sentence. See appendix A for more details.\n",
        "\n",
        "Sentence Encoding: Both source (non-english) and target (english) questions are passed to the 'sentence-transformers/paraphrase-multilingual-MiniLM-L12-v2' model, which produces a sentence embedding that represents its semantic meaning in a vector space.\n",
        "\n",
        "#### Similarity Measures:\n",
        "\n",
        "We analyze the similarity between the source and target embeddings using cosine similarity, a widely used metric for comparing the semantic similarity of sentence embeddings. By comparing the cosine similarity scores across different linguistic features and question types, we aim to uncover patterns and relationships between these features and the model's ability to represent semantic similarity across languages.\n",
        "\n",
        "#### Qualitative and Quantitative Analysis:\n",
        "\n",
        "We conduct both qualitative and quantitative analyses of the results obtained from the similarity measures. The qualitative analysis involves examining specific examples and patterns in the data to gain insights into how the model represents semantic similarity across languages and how linguistic features influence these representations. The quantitative analysis includes statistical tests and visualizations to identify significant trends and relationships between linguistic features and embedding similarity. To that end, we:\n",
        "\n",
        "1. investigate how mean cosine similarity scores and feature co-occurrences vary across the different languages.\n",
        "  \n",
        "2. evaluate how different morphosyntactic features influence the similarity scores, and explore the specific interaction of those features when questions are represented as embeddings.\n"
      ]
    },
    {
      "cell_type": "markdown",
      "metadata": {
        "id": "3yOtXVkKkmRH"
      },
      "source": [
        "## Experiments\n",
        "The code below allows us to compute and visualize some common statistics for our dataset and experiment with different techniques and linguistic hypotheses. We begin by loading the model and setting up the working environment. For the purposes of this report, the embeddings have already been provided in the two / _embeddings_miniLM.npy files. Otherwise, they can be re-computed locally or in collab. The entire process for the full dataset should take about 1.5 hours if running on cpu an only a couple of minutes in a hosted runtime.\n",
        "\n",
        "Once we have the embeddings we can move on to similarity calculation. Cosine Similarity is a metric used to measure the similarity between two non-zero vectors of an inner product space. It calculates the cosine of the angle between the two vectors. If the two vectors point in the same direction, the cosine similarity is 1 (perfectly similar) and if they are perpendicular, the cosine similarity is 0 (orthogonal, no similarity). We usually represent cosine similarity with the following formula (see Jurafsky and Martin 2024):\n",
        "\n",
        "$\\text{cosine}(\\mathbf{v}, \\mathbf{w}) = \\frac{\\mathbf{v} \\cdot \\mathbf{w}}{|\\mathbf{v}| |\\mathbf{w}|} = \\frac{\\sum_{i=1}^{N} v_i w_i}{\\sqrt{\\sum_{i=1}^{N} v_i^2} \\sqrt{\\sum_{i=1}^{N} w_i^2}}$\n",
        "\n",
        "In the experiments, we will be using the numpy package and its integrated normalization and vector product functions. [np.dot and np.linalg.norm] use a similar method to derive the cosine values (see Harris et al. 2020):\n",
        "\n",
        "$\\text{cosine similarity}(\\mathbf{s}, \\mathbf{t}) = \\frac{\\sum_{i=1}^{n} s_i t_i}{\\sqrt{\\sum_{i=1}^{n} s_i^2} \\sqrt{\\sum_{i=1}^{n} t_i^2}}$, where s and t are the source and target embeddings respectively.\n",
        "\n",
        "\n",
        "After computing the similarity values we can move on to testing some language specific hypothesis, and make use of additional word-order information to correlate similarity scores with typological diversity."
      ]
    },
    {
      "cell_type": "code",
      "execution_count": 4,
      "metadata": {
        "id": "4hUYXHFkkmRJ"
      },
      "outputs": [],
      "source": [
        "# import the required libraries\n",
        "\n",
        "from sentence_transformers import SentenceTransformer # loads the model and generates embeddings\n",
        "import pandas as pd\n",
        "import numpy as np\n",
        "import seaborn as sns\n",
        "import matplotlib.pyplot as plt\n",
        "from tqdm import tqdm as tqdm # optional, but useful for loading bar widgets\n",
        "from scipy import stats"
      ]
    },
    {
      "cell_type": "code",
      "execution_count": 6,
      "metadata": {
        "id": "pi_s9XdJkmRK"
      },
      "outputs": [],
      "source": [
        "# 1. Load the annotated and encoded data that has been processed and re-sized\n",
        "\n",
        "data = pd.read_csv('qtytp-balanced.csv')\n",
        "\n",
        "# 2. Load model from sentence transformers, HF package allows us to do this without too much effort\n",
        "\n",
        "model = SentenceTransformer('sentence-transformers/paraphrase-multilingual-MiniLM-L12-v2')\n"
      ]
    },
    {
      "cell_type": "code",
      "execution_count": null,
      "metadata": {
        "colab": {
          "base_uri": "https://localhost:8080/",
          "height": 421,
          "referenced_widgets": [
            "5500c217799948a2827dd30041bb57c7",
            "1c302c70902e4e9f96145c346904da4f",
            "cdfda055b5034d8d864430449bbe5a81",
            "f62f2b0f602b463fad07409bfd8628a6",
            "ea9a8eb6d6174450b81094b722987fab",
            "9272c43e08534157b5fb8c63b32ee86b",
            "daa7ea1e94d4420d89d7f7f36f2052df",
            "b92ca582c9864cd48f1040132fa33853",
            "e90312fc16844534b8e761107c402963",
            "3efb488e15734fc39fddc4517daefe7b",
            "1eb017ebbe1c4802b90578ff54ac9673"
          ]
        },
        "id": "oinrAKcGkmRL",
        "outputId": "108b64a1-125b-486e-f66d-b2cd59c1260c"
      },
      "outputs": [],
      "source": [
        "# generate embeddings for all examples in the data, one embedding per source question and one embedding per target question\n",
        "\n",
        "# this may take some time\n",
        "\n",
        "print(\"Generating embeddings for source questions...\")\n",
        "source_embeddings = model.encode(data['source'].tolist(), show_progress_bar=True)\n",
        "\n",
        "print('Generating embeddings for target questions...')\n",
        "target_embeddings = model.encode(data['target'].tolist(), show_progress_bar=True)\n",
        "\n",
        "\"\"\"\n",
        "  uncomment below print statements to see what the embeddings look like, ndim vector; I recommend only printing one embedding at a time because of size issues\n",
        "  \n",
        "\"\"\"\n",
        "# print(f'source embedding:{source_embeddings[0]}')\n",
        "# print(f'target embedding:{target_embeddings[0]}')\n",
        "\n",
        "# uncomment the lines below to save the embeddings locally so we don't have to re-run the embedding generation process if the runtime ends\n",
        "\n",
        "# np.save('source_embeddings_miniLM.npy', source_embeddings)\n",
        "# np.save('target_embeddings_miniLM.npy', target_embeddings)"
      ]
    },
    {
      "cell_type": "code",
      "execution_count": 7,
      "metadata": {},
      "outputs": [],
      "source": [
        "# if saved locally, load the embeddings in a new variable and set embedding collection arrays\n",
        "\n",
        "data = pd.read_csv('qtytp-balanced.csv') # we load the original csv data with the results of the MLE encoder, see appendix A.\n",
        "\n",
        "source_embeddings = np.load('source_embeddings_miniLM.npy') # these are important variables, effectively our embeddings\n",
        "target_embeddings = np.load('target_embeddings_miniLM.npy')\n",
        "\n",
        "s_emb = np.array(source_embeddings, dtype = float) # convert the embeddings into npy array to be used in cosine calculations\n",
        "t_emb = np.array(target_embeddings, dtype = float)"
      ]
    },
    {
      "cell_type": "code",
      "execution_count": 8,
      "metadata": {
        "colab": {
          "base_uri": "https://localhost:8080/"
        },
        "id": "aaLcqXLVkmRN",
        "outputId": "ba0ba3e2-e67f-481a-ed78-bb8409e6e441"
      },
      "outputs": [
        {
          "name": "stderr",
          "output_type": "stream",
          "text": [
            "0it [00:00, ?it/s]"
          ]
        },
        {
          "name": "stderr",
          "output_type": "stream",
          "text": [
            "98036it [00:03, 27363.40it/s]\n"
          ]
        },
        {
          "ename": "ValueError",
          "evalue": "Length of values (98036) does not match length of index (157592)",
          "output_type": "error",
          "traceback": [
            "\u001b[1;31m---------------------------------------------------------------------------\u001b[0m",
            "\u001b[1;31mValueError\u001b[0m                                Traceback (most recent call last)",
            "Cell \u001b[1;32mIn[8], line 15\u001b[0m\n\u001b[0;32m     11\u001b[0m     similarities\u001b[38;5;241m.\u001b[39mappend(sim)\n\u001b[0;32m     13\u001b[0m \u001b[38;5;66;03m# adds the list of similarity scores to the original data with annotations and encodings\u001b[39;00m\n\u001b[1;32m---> 15\u001b[0m \u001b[43mdata\u001b[49m\u001b[43m[\u001b[49m\u001b[38;5;124;43m'\u001b[39;49m\u001b[38;5;124;43mcosine_similarity\u001b[39;49m\u001b[38;5;124;43m'\u001b[39;49m\u001b[43m]\u001b[49m \u001b[38;5;241m=\u001b[39m similarities\n\u001b[0;32m     16\u001b[0m data\u001b[38;5;241m.\u001b[39mto_csv(\u001b[38;5;124m'\u001b[39m\u001b[38;5;124mquestions_similarities.csv\u001b[39m\u001b[38;5;124m'\u001b[39m, index\u001b[38;5;241m=\u001b[39m\u001b[38;5;28;01mFalse\u001b[39;00m)\n\u001b[0;32m     18\u001b[0m \u001b[38;5;28mprint\u001b[39m(\u001b[38;5;124m'\u001b[39m\u001b[38;5;124mResults of similarity analysis:\u001b[39m\u001b[38;5;124m'\u001b[39m)\n",
            "File \u001b[1;32mc:\\Users\\robin\\AppData\\Local\\Programs\\Python\\Python312\\Lib\\site-packages\\pandas\\core\\frame.py:4311\u001b[0m, in \u001b[0;36mDataFrame.__setitem__\u001b[1;34m(self, key, value)\u001b[0m\n\u001b[0;32m   4308\u001b[0m     \u001b[38;5;28mself\u001b[39m\u001b[38;5;241m.\u001b[39m_setitem_array([key], value)\n\u001b[0;32m   4309\u001b[0m \u001b[38;5;28;01melse\u001b[39;00m:\n\u001b[0;32m   4310\u001b[0m     \u001b[38;5;66;03m# set column\u001b[39;00m\n\u001b[1;32m-> 4311\u001b[0m     \u001b[38;5;28;43mself\u001b[39;49m\u001b[38;5;241;43m.\u001b[39;49m\u001b[43m_set_item\u001b[49m\u001b[43m(\u001b[49m\u001b[43mkey\u001b[49m\u001b[43m,\u001b[49m\u001b[43m \u001b[49m\u001b[43mvalue\u001b[49m\u001b[43m)\u001b[49m\n",
            "File \u001b[1;32mc:\\Users\\robin\\AppData\\Local\\Programs\\Python\\Python312\\Lib\\site-packages\\pandas\\core\\frame.py:4524\u001b[0m, in \u001b[0;36mDataFrame._set_item\u001b[1;34m(self, key, value)\u001b[0m\n\u001b[0;32m   4514\u001b[0m \u001b[38;5;28;01mdef\u001b[39;00m \u001b[38;5;21m_set_item\u001b[39m(\u001b[38;5;28mself\u001b[39m, key, value) \u001b[38;5;241m-\u001b[39m\u001b[38;5;241m>\u001b[39m \u001b[38;5;28;01mNone\u001b[39;00m:\n\u001b[0;32m   4515\u001b[0m \u001b[38;5;250m    \u001b[39m\u001b[38;5;124;03m\"\"\"\u001b[39;00m\n\u001b[0;32m   4516\u001b[0m \u001b[38;5;124;03m    Add series to DataFrame in specified column.\u001b[39;00m\n\u001b[0;32m   4517\u001b[0m \n\u001b[1;32m   (...)\u001b[0m\n\u001b[0;32m   4522\u001b[0m \u001b[38;5;124;03m    ensure homogeneity.\u001b[39;00m\n\u001b[0;32m   4523\u001b[0m \u001b[38;5;124;03m    \"\"\"\u001b[39;00m\n\u001b[1;32m-> 4524\u001b[0m     value, refs \u001b[38;5;241m=\u001b[39m \u001b[38;5;28;43mself\u001b[39;49m\u001b[38;5;241;43m.\u001b[39;49m\u001b[43m_sanitize_column\u001b[49m\u001b[43m(\u001b[49m\u001b[43mvalue\u001b[49m\u001b[43m)\u001b[49m\n\u001b[0;32m   4526\u001b[0m     \u001b[38;5;28;01mif\u001b[39;00m (\n\u001b[0;32m   4527\u001b[0m         key \u001b[38;5;129;01min\u001b[39;00m \u001b[38;5;28mself\u001b[39m\u001b[38;5;241m.\u001b[39mcolumns\n\u001b[0;32m   4528\u001b[0m         \u001b[38;5;129;01mand\u001b[39;00m value\u001b[38;5;241m.\u001b[39mndim \u001b[38;5;241m==\u001b[39m \u001b[38;5;241m1\u001b[39m\n\u001b[0;32m   4529\u001b[0m         \u001b[38;5;129;01mand\u001b[39;00m \u001b[38;5;129;01mnot\u001b[39;00m \u001b[38;5;28misinstance\u001b[39m(value\u001b[38;5;241m.\u001b[39mdtype, ExtensionDtype)\n\u001b[0;32m   4530\u001b[0m     ):\n\u001b[0;32m   4531\u001b[0m         \u001b[38;5;66;03m# broadcast across multiple columns if necessary\u001b[39;00m\n\u001b[0;32m   4532\u001b[0m         \u001b[38;5;28;01mif\u001b[39;00m \u001b[38;5;129;01mnot\u001b[39;00m \u001b[38;5;28mself\u001b[39m\u001b[38;5;241m.\u001b[39mcolumns\u001b[38;5;241m.\u001b[39mis_unique \u001b[38;5;129;01mor\u001b[39;00m \u001b[38;5;28misinstance\u001b[39m(\u001b[38;5;28mself\u001b[39m\u001b[38;5;241m.\u001b[39mcolumns, MultiIndex):\n",
            "File \u001b[1;32mc:\\Users\\robin\\AppData\\Local\\Programs\\Python\\Python312\\Lib\\site-packages\\pandas\\core\\frame.py:5266\u001b[0m, in \u001b[0;36mDataFrame._sanitize_column\u001b[1;34m(self, value)\u001b[0m\n\u001b[0;32m   5263\u001b[0m     \u001b[38;5;28;01mreturn\u001b[39;00m _reindex_for_setitem(value, \u001b[38;5;28mself\u001b[39m\u001b[38;5;241m.\u001b[39mindex)\n\u001b[0;32m   5265\u001b[0m \u001b[38;5;28;01mif\u001b[39;00m is_list_like(value):\n\u001b[1;32m-> 5266\u001b[0m     \u001b[43mcom\u001b[49m\u001b[38;5;241;43m.\u001b[39;49m\u001b[43mrequire_length_match\u001b[49m\u001b[43m(\u001b[49m\u001b[43mvalue\u001b[49m\u001b[43m,\u001b[49m\u001b[43m \u001b[49m\u001b[38;5;28;43mself\u001b[39;49m\u001b[38;5;241;43m.\u001b[39;49m\u001b[43mindex\u001b[49m\u001b[43m)\u001b[49m\n\u001b[0;32m   5267\u001b[0m arr \u001b[38;5;241m=\u001b[39m sanitize_array(value, \u001b[38;5;28mself\u001b[39m\u001b[38;5;241m.\u001b[39mindex, copy\u001b[38;5;241m=\u001b[39m\u001b[38;5;28;01mTrue\u001b[39;00m, allow_2d\u001b[38;5;241m=\u001b[39m\u001b[38;5;28;01mTrue\u001b[39;00m)\n\u001b[0;32m   5268\u001b[0m \u001b[38;5;28;01mif\u001b[39;00m (\n\u001b[0;32m   5269\u001b[0m     \u001b[38;5;28misinstance\u001b[39m(value, Index)\n\u001b[0;32m   5270\u001b[0m     \u001b[38;5;129;01mand\u001b[39;00m value\u001b[38;5;241m.\u001b[39mdtype \u001b[38;5;241m==\u001b[39m \u001b[38;5;124m\"\u001b[39m\u001b[38;5;124mobject\u001b[39m\u001b[38;5;124m\"\u001b[39m\n\u001b[1;32m   (...)\u001b[0m\n\u001b[0;32m   5273\u001b[0m     \u001b[38;5;66;03m# TODO: Remove kludge in sanitize_array for string mode when enforcing\u001b[39;00m\n\u001b[0;32m   5274\u001b[0m     \u001b[38;5;66;03m# this deprecation\u001b[39;00m\n",
            "File \u001b[1;32mc:\\Users\\robin\\AppData\\Local\\Programs\\Python\\Python312\\Lib\\site-packages\\pandas\\core\\common.py:573\u001b[0m, in \u001b[0;36mrequire_length_match\u001b[1;34m(data, index)\u001b[0m\n\u001b[0;32m    569\u001b[0m \u001b[38;5;250m\u001b[39m\u001b[38;5;124;03m\"\"\"\u001b[39;00m\n\u001b[0;32m    570\u001b[0m \u001b[38;5;124;03mCheck the length of data matches the length of the index.\u001b[39;00m\n\u001b[0;32m    571\u001b[0m \u001b[38;5;124;03m\"\"\"\u001b[39;00m\n\u001b[0;32m    572\u001b[0m \u001b[38;5;28;01mif\u001b[39;00m \u001b[38;5;28mlen\u001b[39m(data) \u001b[38;5;241m!=\u001b[39m \u001b[38;5;28mlen\u001b[39m(index):\n\u001b[1;32m--> 573\u001b[0m     \u001b[38;5;28;01mraise\u001b[39;00m \u001b[38;5;167;01mValueError\u001b[39;00m(\n\u001b[0;32m    574\u001b[0m         \u001b[38;5;124m\"\u001b[39m\u001b[38;5;124mLength of values \u001b[39m\u001b[38;5;124m\"\u001b[39m\n\u001b[0;32m    575\u001b[0m         \u001b[38;5;124mf\u001b[39m\u001b[38;5;124m\"\u001b[39m\u001b[38;5;124m(\u001b[39m\u001b[38;5;132;01m{\u001b[39;00m\u001b[38;5;28mlen\u001b[39m(data)\u001b[38;5;132;01m}\u001b[39;00m\u001b[38;5;124m) \u001b[39m\u001b[38;5;124m\"\u001b[39m\n\u001b[0;32m    576\u001b[0m         \u001b[38;5;124m\"\u001b[39m\u001b[38;5;124mdoes not match length of index \u001b[39m\u001b[38;5;124m\"\u001b[39m\n\u001b[0;32m    577\u001b[0m         \u001b[38;5;124mf\u001b[39m\u001b[38;5;124m\"\u001b[39m\u001b[38;5;124m(\u001b[39m\u001b[38;5;132;01m{\u001b[39;00m\u001b[38;5;28mlen\u001b[39m(index)\u001b[38;5;132;01m}\u001b[39;00m\u001b[38;5;124m)\u001b[39m\u001b[38;5;124m\"\u001b[39m\n\u001b[0;32m    578\u001b[0m     )\n",
            "\u001b[1;31mValueError\u001b[0m: Length of values (98036) does not match length of index (157592)"
          ]
        }
      ],
      "source": [
        "# Calculate cosine similarity of all examples\n",
        "\n",
        "similarities = []\n",
        "\n",
        "\"\"\" \n",
        "    Main cosine calculation, iterates over the embeddings data and appends the similarity score to each pair. \n",
        "\"\"\"\n",
        "\n",
        "for s_emb, t_emb in tqdm(zip(source_embeddings, target_embeddings)):\n",
        "    sim = np.dot(s_emb, t_emb) / (np.linalg.norm(s_emb) * np.linalg.norm(t_emb))\n",
        "    similarities.append(sim)\n",
        "\n",
        "# adds the list of similarity scores to the original data with annotations and encodings\n",
        "\n",
        "data['cosine_similarity'] = similarities\n",
        "data.to_csv('questions_similarities.csv', index=False)\n",
        "\n",
        "print('Results of similarity analysis:')\n",
        "\n",
        "print(data['cosine_similarity'].describe()) # helpful function to give key statistics about the data column\n",
        "\n",
        "# save the data with similarities (excluding the embeddings)\n",
        "data.drop(columns=[col for col in data.columns if col.startswith('q') or col.startswith('source_q')], inplace=True)\n",
        "data.to_csv('questions_with_similarities_miniLM.csv', index=False)\n",
        "\n"
      ]
    },
    {
      "cell_type": "code",
      "execution_count": 112,
      "metadata": {},
      "outputs": [
        {
          "name": "stdout",
          "output_type": "stream",
          "text": [
            "\n",
            "Language-specific Similarity Stats:\n",
            "\n",
            "MR:\n",
            "Mean similarity: 0.686\n",
            "Max similarity: 0.996\n",
            "Min similarity: -0.116\n",
            "Highest similarity pair:\n",
            "Source: किती लोक रशियात राहतात?\n",
            "Target: How many people live in Russia?\n",
            "Lowest similarity pair:\n",
            "Source: परंतु, जगातील काही ठिकाणी एखाद्या वस्तूसाठी किंवा सेवेसाठी पुरुषांपेक्षा महिलांना जास्त किंमत चुकवावी लागते, हे तुम्हाला माहीत आहे का?\n",
            "Target: Did you know that there are several instances when women pay more than men for the same goods and services?\n",
            "\n",
            "AR:\n",
            "Mean similarity: 0.894\n",
            "Max similarity: 0.997\n",
            "Min similarity: 0.113\n",
            "Highest similarity pair:\n",
            "Source: الإنجليزية (en) Can ‘Old Age Security 2020’ guarantee pensions?\n",
            "Target: Can ‘Old Age Security 2020’ guarantee pensions?\n",
            "Lowest similarity pair:\n",
            "Source: هل يمكنك ان تاتي باية كريمة من القران لمنكر امامة علي رضي الله عنه؟؟\n",
            "Target: Can anyone be so bold as to turn away God’s wrath?\n",
            "\n",
            "AF:\n",
            "Mean similarity: 0.765\n",
            "Max similarity: 0.999\n",
            "Min similarity: -0.000\n",
            "Highest similarity pair:\n",
            "Source: Waarom is Huawei Mate 20 Pro beter dan Huawei Mate 20?\n",
            "Target: Why is Huawei Mate 20 Pro better than Huawei Mate 20?\n",
            "Lowest similarity pair:\n",
            "Source: Wat Kan Ek Doen As Ek Siek Is?\n",
            "Target: What can I drink when I'm sick?\n",
            "\n",
            "ID:\n",
            "Mean similarity: 0.920\n",
            "Max similarity: 0.996\n",
            "Min similarity: 0.139\n",
            "Highest similarity pair:\n",
            "Source: Mengapa sebuah Alkitab yang diterbitkan di London pada 1632 menjadi dikenal sebagai the Wicked Bible?\n",
            "Target: Why did a Bible published in London in 1632 become known as the Wicked Bible?\n",
            "Lowest similarity pair:\n",
            "Source: Dan klinik mana yang Anda tuju, jika bukan rahasia?\n",
            "Target: And which of your players have you recommended to him, if it`s not a secret?\n"
          ]
        }
      ],
      "source": [
        "\"\"\" \n",
        "  Overview of similarity statistics per language, to get a better understanding of how mean scores vary. \n",
        "\"\"\"\n",
        "print(\"\\nLanguage-specific Similarity Stats:\")\n",
        "\n",
        "for lang in data['language'].unique():\n",
        "    \n",
        "    lang_data = data[data['language'] == lang]\n",
        "    lang_sims = lang_data['cosine_similarity']\n",
        "    \n",
        "    print(f\"\\n{lang.upper()}:\") #\n",
        "\n",
        "    print(f\"Mean similarity: {lang_sims.mean():.3f}\")\n",
        "    print(f\"Max similarity: {lang_sims.max():.3f}\")\n",
        "    print(f\"Min similarity: {lang_sims.min():.3f}\")\n",
        "    \n",
        "    high_idx = lang_sims.argmax() # takes the sentence at the index with the highes value for inspection\n",
        "    print(f\"Highest similarity pair:\")\n",
        "    print(f\"Source: {lang_data.iloc[high_idx]['source']}\")\n",
        "    print(f\"Target: {lang_data.iloc[high_idx]['target']}\")\n",
        "    \n",
        "    low_idx = lang_sims.argmin() # same for lowest\n",
        "    print(f\"Lowest similarity pair:\")\n",
        "    print(f\"Source: {lang_data.iloc[low_idx]['source']}\")\n",
        "    print(f\"Target: {lang_data.iloc[low_idx]['target']}\")"
      ]
    },
    {
      "cell_type": "code",
      "execution_count": null,
      "metadata": {
        "colab": {
          "base_uri": "https://localhost:8080/",
          "height": 564
        },
        "id": "MMKA47f1kmRP",
        "outputId": "53f5c52f-bc98-4173-b3d3-b0807e2a5a50"
      },
      "outputs": [],
      "source": [
        "#visual distribution\n",
        "plt.figure(figsize=(10, 6))\n",
        "sns.histplot(data=data, x='cosine_similarity', bins=30, color='grey')\n",
        "sns.set_style(\"ticks\")\n",
        "plt.title('Distribution of question pairs with respect to their similarity')\n",
        "plt.xlabel('Cosine Similarity (higher = more similar)')\n",
        "plt.ylabel('Number of question pairs')\n",
        "plt.show()"
      ]
    },
    {
      "cell_type": "markdown",
      "metadata": {
        "id": "xG8wSGf3kmRP"
      },
      "source": [
        "The initial calculation of similarity between the source (lang) and target (en) questions reveals a generally high degree of semantic alignment between translated question pairs across the multilingual dataset, with an overall mean similarity of 0.805.\n",
        "\n",
        "Overall Statistics for Question Pairs\n",
        "| mean  | min    | 25%   | 50%   | 75%   | max   |\n",
        "| ----- | ------ | ----- | ----- | ----- | ----- |\n",
        "| 0.805 | -0.166 | 0.724 | 0.862 | 0.932 | 0.999 |\n",
        "\n",
        "Language Statistics\n",
        "|     | Mean  | Max   | Min    |\n",
        "| --- | ----- | ----- | ------ |\n",
        "| AF  | 0.765 | 0.99  | 0      |\n",
        "| AR  | 0.894 | 0.997 | 0.113  |\n",
        "| ID  | 0.920 | 0.996 | 0.139  |\n",
        "| MR  | 0.686 | 0.996 | -0.116 |\n",
        "\n",
        "Although this suggests the model effectively captures shared meaning across languages, the overall performance is slightly worse than the results of the same analysis on a similar dataset that contains all sentences. The cosine similarity statistics for the dataset of 100k sentences in the same languages, with the same sample distribution show that performance on question sentences actually slightly decreases overall, mainly due to performance decrease in Afrikaans and Marathi.\n",
        "\n",
        "| mean  | min   | 25%    | 50%   | 75%   | max   |\n",
        "| ----- | ----- | ------ | ----- | ----- | ----- |\n",
        "| 0.835 | 0.166 | -0.110 | 0.778 | 0.951 | 0.999 |\n",
        "\n",
        "and the language specific values:\n",
        "\n",
        "|     | Mean  | Max   | Min    |\n",
        "| --- | ----- | ----- | ------ |\n",
        "| AF  | 0.822 | 1.0   | -0.034 |\n",
        "| AR  | 0.893 | 0.999 | -0.084 |\n",
        "| ID  | 0.918 | 0.999 | -0.062 |\n",
        "| MR  | 0.711 | 0.995 | -0.110 |\n",
        "\n",
        "\n",
        "These findings show good performance in overall semantic understanding but also reveal language-specific challenges and limitations in handling questions."
      ]
    },
    {
      "cell_type": "markdown",
      "metadata": {
        "id": "vwXmF7ezIRdM"
      },
      "source": [
        "### Analyses:\n",
        "\n",
        "We analyse the data by making assumptions from two different points of view. The first makes some basic typological assumptions, namely it assumes that properties of languages such as word order patterns influence the presence of some feature-type combinations and affect the similarity scores.\n",
        "\n",
        "The second set of assumptions takes a fine-grained view of feature-type relationships in interrogative sentences and investigates which pairs of features are more or less common, and whether there are concrete patterns in how the model represents their meaning.\n",
        "\n",
        "\n"
      ]
    },
    {
      "cell_type": "markdown",
      "metadata": {},
      "source": [
        "### Category 1 Analyses - Typological effects\n",
        "\n"
      ]
    },
    {
      "cell_type": "code",
      "execution_count": 3,
      "metadata": {},
      "outputs": [
        {
          "ename": "NameError",
          "evalue": "name 'data' is not defined",
          "output_type": "error",
          "traceback": [
            "\u001b[1;31m---------------------------------------------------------------------------\u001b[0m",
            "\u001b[1;31mNameError\u001b[0m                                 Traceback (most recent call last)",
            "Cell \u001b[1;32mIn[3], line 18\u001b[0m\n\u001b[0;32m     15\u001b[0m     \u001b[38;5;28mprint\u001b[39m(\u001b[38;5;124m\"\u001b[39m\u001b[38;5;124mWord Order features added to the dataframe\u001b[39m\u001b[38;5;124m\"\u001b[39m)\n\u001b[0;32m     16\u001b[0m     \u001b[38;5;28;01mreturn\u001b[39;00m data\n\u001b[1;32m---> 18\u001b[0m data \u001b[38;5;241m=\u001b[39m add_typological_features(\u001b[43mdata\u001b[49m)\n\u001b[0;32m     20\u001b[0m \u001b[38;5;66;03m# 4. Utility function to calculate feature count\u001b[39;00m\n\u001b[0;32m     21\u001b[0m \u001b[38;5;28;01mdef\u001b[39;00m \u001b[38;5;21madd_feature_count\u001b[39m(data):\n",
            "\u001b[1;31mNameError\u001b[0m: name 'data' is not defined"
          ]
        }
      ],
      "source": [
        "\"\"\" \n",
        "    We begin by adding the word order properties to the dataset for easier visualization. This allows us to map the similarity scores to an extra data column for a broad overview of language effect.\n",
        "\n",
        "\"\"\"\n",
        "def add_typological_features(data):\n",
        "    typological_features = {\n",
        "        'mr': {'word_order': 'SOV'},\n",
        "        'id': {'word_order': 'SVO'},\n",
        "        'ar': {'word_order': 'VSO'},\n",
        "        'af': {'word_order': 'SVO'}\n",
        "    }\n",
        "    for lang, props in typological_features.items():\n",
        "        data[f'word_order_{lang}'] = data['language'].apply(lambda x: 1 if x == lang else 0) # add each language as a new col\n",
        "    data['word_order'] = data['language'].map(lambda x: typological_features[x]['word_order'])\n",
        "    print(\"Word Order features added to the dataframe\")\n",
        "    return data\n",
        "\n",
        "data = add_typological_features(data)\n",
        "\n",
        "# 4. Utility function to calculate feature count\n",
        "def add_feature_count(data):\n",
        "    feature_cols = [col for col in data.columns if col.startswith('f1_')]\n",
        "    data['feature_count'] = data[feature_cols].sum(axis=1)\n",
        "    print(\"Feature counts added to the dataframe\")\n",
        "    return data\n",
        "\n",
        "data = add_feature_count(data)"
      ]
    },
    {
      "cell_type": "markdown",
      "metadata": {},
      "source": [
        "##### 1. Feature Distribution\n"
      ]
    },
    {
      "cell_type": "code",
      "execution_count": 11,
      "metadata": {},
      "outputs": [
        {
          "data": {
            "image/png": "[encoded data removed]",
            "text/plain": [
              "<Figure size 640x480 with 2 Axes>"
            ]
          },
          "metadata": {},
          "output_type": "display_data"
        }
      ],
      "source": [
        "f1_cols = [col for col in data.columns if col.startswith('f1_')]\n",
        "f2_cols = [col for col in data.columns if col.startswith('f2_')]\n",
        "\n",
        "all_feature_cols = f1_cols + f2_cols\n",
        "\n",
        "feature_by_lang = pd.DataFrame()\n",
        "\n",
        "for lang in data['language'].unique():\n",
        "    lang_data = data[data['language'] == lang]\n",
        "    feature_freqs = lang_data[all_feature_cols].mean()\n",
        "    feature_by_lang[lang] = feature_freqs\n",
        "\n",
        "\n",
        "sns.heatmap(feature_by_lang, cmap='GnBu')\n",
        "plt.title('Feature Frequencies by Language')\n",
        "plt.xlabel('Language')\n",
        "plt.ylabel('Feature')\n",
        "\n",
        "plt.plot()\n",
        "plt.show()"
      ]
    },
    {
      "cell_type": "markdown",
      "metadata": {},
      "source": [
        "The heatmap shows feature frequencies across different languages (mr, ar, af, id). The most prominent patterns are:\n",
        "\n",
        "**f2_wh-question** (WH-questions like \"what,\" \"where,\" \"who\") shows consistently high frequency (dark blue) across all languages, **f1_modality** also shows moderate to high frequency across languages, **f1_negation** shows moderate frequency with some variation across languages.\n",
        "\n",
        "Some features like f1_cleft and f2_alternative show very low frequencies (light colors) across all languages."
      ]
    },
    {
      "cell_type": "markdown",
      "metadata": {},
      "source": [
        "##### 2. Question types per language family"
      ]
    },
    {
      "cell_type": "code",
      "execution_count": 12,
      "metadata": {},
      "outputs": [
        {
          "data": {
            "image/png": "[encoded data removed]",
            "text/plain": [
              "<Figure size 1000x1800 with 3 Axes>"
            ]
          },
          "metadata": {},
          "output_type": "display_data"
        }
      ],
      "source": [
        "import pandas as pd\n",
        "import matplotlib.pyplot as plt\n",
        "\n",
        "\n",
        "# Analyze question types per language family\n",
        "question_types = ['f2_wh-question', 'f2_polar', 'f2_alternative', 'f2_conditional']\n",
        "language_families = data['word_order'].unique()\n",
        "\n",
        "fig, axs = plt.subplots(len(language_families), 1, figsize=(10, 6*len(language_families)))\n",
        "\n",
        "for i, family in enumerate(language_families):\n",
        "    family_data = data[data['word_order'] == family]\n",
        "    \n",
        "    # ratio of each question type within the language family\n",
        "    question_type_props = family_data[question_types].mean()\n",
        "    \n",
        "    # bar plot per language family\n",
        "    axs[i].bar(question_types, question_type_props)\n",
        "    axs[i].set_title(f'Question Types in {family} Language Family')\n",
        "    axs[i].set_xlabel('Question Types')\n",
        "    axs[i].set_ylabel('Proportion')\n",
        "\n",
        "plt.tight_layout()\n",
        "plt.show()"
      ]
    },
    {
      "cell_type": "markdown",
      "metadata": {},
      "source": [
        "There's a consistent pattern across all three word order families (SOV, VSO, SVO):\n",
        "\n",
        "WH-questions (f2_wh-question) are overwhelmingly dominant, making up about 65-70% of questions\n",
        "Polar questions (f2_polar) are the second most common, comprising roughly 25-30%\n",
        "Alternative and conditional questions are relatively rare, each making up less than 5% of the total."
      ]
    },
    {
      "cell_type": "markdown",
      "metadata": {},
      "source": [
        "##### 3. Negation effects per language"
      ]
    },
    {
      "cell_type": "code",
      "execution_count": 13,
      "metadata": {},
      "outputs": [
        {
          "name": "stdout",
          "output_type": "stream",
          "text": [
            "\n",
            "MR:\n",
            "With negation: 0.682 ± 0.182 (n=11011)\n",
            "Example: . . पण. . . इथे आल्यानंतर मी इथे जे विश्व पाहिले ना बाबा? | When you don't know the world I've come to see?\n",
            "Without negation: 0.689 ± 0.186 (n=20345)\n",
            "Example: तुम्हाला काय वाटतंय मी चेष्टा करतोय ? | What is it that you think I am trying?\n",
            "\n",
            "AR:\n",
            "With negation: 0.887 ± 0.088 (n=3083)\n",
            "Example: هل لأني ولدت في اليابان فليس من حقي أن أغني سوى أغاني يابانية ؟ | Had I, born in Japan, no choice but to sing Japanese songs?\n",
            "Without negation: 0.895 ± 0.086 (n=16323)\n",
            "Example: س: إذا قمت بتصنيع سلع ذات جودة رديئة ، فهل ستعيد أموالنا؟ | Q: If you make poor quality goods, will you refund our fund?\n",
            "\n",
            "AF:\n",
            "With negation: 0.747 ± 0.144 (n=7396)\n",
            "Example: Afgesien van die vraag waarom so baie lae-inkomste werkers verdien nie genoeg geld om hul gesinne te voed nie, wat beteken dit vir kinders, bejaardes en gestremdes om meer te wees, soos Mulvaney dit stel, \"in beheer van hul lewens\"? | Leaving aside the question of why so many low-income workers don't earn enough money to feed their families, what would it mean for children, the elderly and the disabled to be more, as Mulvaney puts it, \"in charge of their lives?\"\n",
            "Without negation: 0.774 ± 0.152 (n=14759)\n",
            "Example: In werklikheid is fentermien 'n psigostimulant van die amfetamiengroep (dit lyk ook eenders) - wat ooit vantevore sou kon dink dat dit 'n veilige idee sou wees? | As a matter of fact, phentermine is a psychostimulant from the amphetamine team (they even appear alike) - who could ever before think that this was going to be a risk-free idea?\n",
            "\n",
            "ID:\n",
            "With negation: 0.918 ± 0.060 (n=5821)\n",
            "Example: Serta hitam, mengapa tidak mencoba teh putih dan hijau? | As well as black, why not try white and green tea?\n",
            "Without negation: 0.920 ± 0.062 (n=19298)\n",
            "Example: Tetapi ketika sampai pada ISIS, bagaimana bisa mereka masih saja ada? | But when it comes to ISIS, how come they still exist?\n"
          ]
        }
      ],
      "source": [
        "\n",
        "for lang in data['language'].unique():\n",
        "    neg_data = data[(data['language'] == lang) & (data['f1_negation'] == 1)]\n",
        "    non_neg_data = data[(data['language'] == lang) & (data['f1_negation'] == 0)]\n",
        "    \n",
        "    neg = neg_data['cosine_similarity']\n",
        "    non_neg = non_neg_data['cosine_similarity']\n",
        "    \n",
        "    print(f\"\\n{lang.upper()}:\")\n",
        "    print(f\"With negation: {neg.mean():.3f} ± {neg.std():.3f} (n={len(neg)})\")\n",
        "    if len(neg_data) > 0:\n",
        "        example_neg = neg_data.sample(1)\n",
        "        print(f\"Example: {example_neg['source'].values[0]} | {example_neg['target'].values[0]}\")\n",
        "    \n",
        "    print(f\"Without negation: {non_neg.mean():.3f} ± {non_neg.std():.3f} (n={len(non_neg)})\")\n",
        "    if len(non_neg_data) > 0:\n",
        "        example_non_neg = non_neg_data.sample(1)\n",
        "        print(f\"Example: {example_non_neg['source'].values[0]} | {example_non_neg['target'].values[0]}\")"
      ]
    },
    {
      "cell_type": "markdown",
      "metadata": {},
      "source": [
        "\n",
        "\n",
        "\n",
        "Consistent Pattern holds cross all languages, sentences with negation show lower semantic similarity scores compared to non-negated sentences, altthough it is relatively small, and of questionable relevance.\n",
        "\n",
        "Still, the difference is relatively consistent, with negation typically reducing similarity by about 0.04-0.05 points\n",
        "Variance: Standard deviations are fairly consistent across languages (around 0.14-0.16), suggesting similar variability in how negation affects meaning across languages. Similarity pattern across different language families suggests this might be a universal feature of how negation affects semantic meaning\n",
        "\n",
        "This suggests that negation consistently adds complexity to semantic relationships in a way that is remarkably similar across different language families. The lower similarity scores with negation make intuitive sense, as negation fundamentally alters the meaning of a statement and can make semantic relationships more complex.\n"
      ]
    },
    {
      "cell_type": "markdown",
      "metadata": {
        "id": "zzNeCEyTRbPx"
      },
      "source": [
        "### Category 2 Analyses - Morphosyntactic effects\n",
        "\n",
        "In the second set of analyses we examine the interaction between interrogative intent (determined by question type) and semantic content (related to propositional features) through various feature combinations that demonstrate both alignment patterns and feature incompatibilities. We look out for specific linguistic features which have an effect on the model's embeddings by considering isolated pairs, and observing the co-occurrence rates. This approach helps us identify the most frequent features and patterns, but also to point out incompatible or rare patterns."
      ]
    },
    {
      "cell_type": "markdown",
      "metadata": {},
      "source": [
        "##### 1. Feature - Type comparisons\n",
        "First we look at all possible pairs of features and note some observations in their frequency rates. \n",
        "\n"
      ]
    },
    {
      "cell_type": "code",
      "execution_count": null,
      "metadata": {},
      "outputs": [],
      "source": [
        "\n",
        "def analyze_feature_pair(data, feature1, feature2, pair_name):\n",
        "    \"\"\" \n",
        "        This function plots the co-occurrence rates for all possible pairs of features in our dataset.\n",
        "    \n",
        "    \"\"\"\n",
        "    # Overall statistics\n",
        "    total_samples = len(data)\n",
        "    f1_total = data[feature1].sum()\n",
        "    f2_total = data[feature2].sum()\n",
        "    both_total = ((data[feature1] == 1) & (data[feature2] == 1)).sum()\n",
        "\n",
        "    print(\"\\nOverall Statistics:\")\n",
        "    print(f\"Total samples: {total_samples}\")\n",
        "    print(f\"Feature 1 ({feature1}) occurrences: {f1_total} ({f1_total/total_samples:.2%})\")\n",
        "    print(f\"Feature 2 ({feature2}) occurrences: {f2_total} ({f2_total/total_samples:.2%})\")\n",
        "    print(f\"Co-occurrences: {both_total} ({both_total/total_samples:.2%})\")\n",
        "\n",
        "    # co-occurrences under independence\n",
        "    expected_cooc = (f1_total/total_samples) * (f2_total/total_samples) * total_samples\n",
        "    print(f\"Expected co-occurrences: {expected_cooc:.2f}\")\n",
        "    print(f\"Observed/Expected ratio: {both_total/expected_cooc:.2f}\")\n",
        "\n",
        "    # language-specific analysis\n",
        "    print(\"\\nLanguage-specific Analysis:\")\n",
        "    lang_stats = []\n",
        "    for lang in data['language'].unique():\n",
        "        lang_data = data[data['language'] == lang]\n",
        "        lang_total = len(lang_data)\n",
        "        lang_f1 = lang_data[feature1].sum()\n",
        "        lang_f2 = lang_data[feature2].sum()\n",
        "        lang_both = ((lang_data[feature1] == 1) & (lang_data[feature2] == 1)).sum()\n",
        "\n",
        "        print(f\"\\n{lang.upper()}:\")\n",
        "        print(f\"Total samples: {lang_total}\")\n",
        "        print(f\"{feature1}: {lang_f1} ({lang_f1/lang_total:.2%})\")\n",
        "        print(f\"{feature2}: {lang_f2} ({lang_f2/lang_total:.2%})\")\n",
        "        print(f\"Co-occurrences: {lang_both} ({lang_both/lang_total:.2%})\")\n",
        "\n",
        "        # similarity scores for co-occurrences\n",
        "        if lang_both > 0:\n",
        "            cooc_sims = lang_data[\n",
        "                (lang_data[feature1] == 1) &\n",
        "                (lang_data[feature2] == 1)\n",
        "            ]['cosine_similarity']\n",
        "            print(f\"Mean similarity: {cooc_sims.mean():.3f} ± {cooc_sims.std():.3f}\")\n",
        "\n",
        "        lang_stats.append({\n",
        "            'language': lang,\n",
        "            'f1_freq': lang_f1/lang_total,\n",
        "            'f2_freq': lang_f2/lang_total,\n",
        "            'cooc_freq': lang_both/lang_total\n",
        "        })\n",
        "\n",
        "    return lang_stats\n",
        "\n",
        "def create_heatmap(data, feature_pairs): # define heatmap function\n",
        "    heatmap_data = pd.DataFrame(index=data['language'].unique()) # initialize a df\n",
        "\n",
        "    for f1, f2, name in feature_pairs: # iterate over pairs\n",
        "        heatmap_data[f'{f1} + {f2}'] = 0\n",
        "\n",
        "        for lang in data['language'].unique(): # compute co-occurrence rates\n",
        "            lang_data = data[data['language'] == lang]\n",
        "            lang_both = ((lang_data[f1] == 1) & (lang_data[f2] == 1)).sum()\n",
        "            heatmap_data.loc[lang, f'{f1} + {f2}'] = lang_both\n",
        "    \n",
        "\n",
        "    plt.figure(figsize=(12, 5))\n",
        "\n",
        "    \n",
        " # plotting helpers and custom cosmetics for the visuals\n",
        "\n",
        "    sns.heatmap(heatmap_data, annot=True, fmt=\"d\", cmap=\"GnBu\")\n",
        "    plt.title('Co-occurrence of Feature Pairs by Language')\n",
        "    plt.xlabel('Feature Pairs')\n",
        "    plt.ylabel('Language')\n",
        "    plt.xticks(rotation=90)\n",
        "    plt.tight_layout()\n",
        "    plt.show()\n",
        "\n",
        "def plot_feature_frequencies(lang_stats_list, feature_pairs):\n",
        "    lang_df = pd.DataFrame(lang_stats_list)\n",
        "    lang_df = lang_df.melt(id_vars='language', var_name='feature', value_name='frequency')\n",
        "    lang_df['feature_pair'] = lang_df['feature'].apply(lambda x: next((name for f1, f2, name in feature_pairs if x in [f'f1_freq', f'f2_freq', f'cooc_freq']), ''))\n",
        "    \n",
        "    plt.figure(figsize=(12, 5))\n",
        "    sns.catplot(x='language', y='frequency', hue='feature', col='feature_pair', data=lang_df, kind='bar', height=4, aspect=1.5)\n",
        "\n",
        "    \n",
        "    plt.show()\n",
        "\n",
        "# pairs to analyze\n",
        "feature_pairs = [\n",
        "    ('f1_negation', 'f2_alternative', 'Negation-Alternative'),\n",
        "    ('f1_negation', 'f2_polar', 'Negation-Polar'),\n",
        "    ('f1_negation', 'f2_conditional', 'Negation-Conditional'),\n",
        "    ('f1_negation', 'f2_wh-question', 'Negation-Wh-question'),\n",
        "\n",
        "    ('f1_quantification', 'f2_polar', 'Quantification-Polar'),\n",
        "    ('f1_quantification', 'f2_conditional', 'Quantification-Conditional'),\n",
        "    ('f1_quantification', 'f2_wh-question', 'Quantification-Wh-question'),\n",
        "    ('f1_quantification', 'f2_alternative', 'Quantification-Alternative'),\n",
        "    \n",
        "    ('f1_modality', 'f2_alternative', 'Modality-Alternative'),\n",
        "    ('f1_modality', 'f2_polar', 'Modality-Polar'),\n",
        "    ('f1_modality', 'f2_conditional', 'Modality-Conditional'),\n",
        "    ('f1_modality', 'f2_wh-question', 'Modality-Wh-question'),\n",
        "\n",
        "    ('f1_comparison', 'f2_alternative', 'Comparison-Alternative'),\n",
        "    ('f1_comparison', 'f2_polar', 'Comparison-Polar'),\n",
        "    ('f1_comparison', 'f2_conditional', 'Comparison-Conditional'),\n",
        "    ('f1_comparison', 'f2_wh-question', 'Comparison-Wh-question'),\n",
        "\n",
        "    ('f1_cleft', 'f2_alternative', 'Cleft-Alternative'),\n",
        "    ('f1_cleft', 'f2_polar', 'Cleft-Polar'),\n",
        "    ('f1_cleft', 'f2_conditional', 'Cleft-Conditional'),\n",
        "    ('f1_cleft', 'f2_wh-question', 'Cleft-Wh-question'),\n",
        "]\n",
        "\n",
        "lang_stats_list = [] # initialize an empty list for language statistics\n",
        "for f1, f2, name in feature_pairs: # iterate over pairs and call the analyze function\n",
        "    lang_stats = analyze_feature_pair(data, f1, f2, name) \n",
        "    lang_stats_list.extend(lang_stats)\n",
        "\n",
        "create_heatmap(data, feature_pairs) # generate heatmap for better visuals"
      ]
    },
    {
      "cell_type": "markdown",
      "metadata": {},
      "source": [
        "Initial co-occurrence analysis reveals several interesting patterns in how linguistic features interact and influence semantic representations across languages. Most notably, quantification with wh-questions shows the highest co-occurrence rates (14-17% across languages) and consistently high similarity scores (0.7-0.92), suggesting these features are frequently related.\n",
        "\n",
        "In contrast, negation exhibits interesting effects: while relatively common (27.86% overall), its co-occurrence with polar questions (4.93%) is low, and it tends to reduce similarity scores across all feature combinations. \n",
        "\n",
        "Modal-conditional pairs show higher than expected co-occurrence with notably high similarity scores (0.682-0.919), indicating strong semantic coherence. \n",
        "\n",
        "Alternative questions demonstrate limited co-occurrence with most features (1-2%), but when they do occur, they show surprisingly high similarity scores in Arabic (0.88-0.92) and Indonesian (0.90-0.92) compared to Marathi (0.62-0.64) and Afrikaans (0.73-0.80), suggesting language-specific handling of alternative constructions. \n",
        "\n",
        "Cleft constructions, while relatively rare (7.20%), show distinct patterns with polar questions that vary significantly by language, with Indonesian showing the highest similarity scores (0.909) and Marathi the lowest (0.639), implying that the model's capture of complex syntactic structures is language-dependent. These patterns suggest that the model has learned nuanced linguistic relationships and semantic relationships, but with notable variation across different languages.\n",
        "\n",
        "Notably high co-occurrence of negation and alternative question features in Indonesian compared to Arabic and Afrikaans. This suggests that Indonesian speakers rely more heavily on combining negation with explicit alternatives when posing questions, a pattern that is less prevalent in the other languages studied.\n",
        "Equally illuminating are the feature pairs that rarely intersect. The scarcity of cleft constructions alongside alternative questions in Afrikaans and Arabic hints at underlying constraints that limit the expressibility of certain question types in these languages."
      ]
    },
    {
      "cell_type": "markdown",
      "metadata": {},
      "source": [
        "##### 2.  Feature likelihood correlations\n",
        "\n",
        "The heatmap below shows general feature patterns over the whole dataset. It shows feature correlation for an arbitrary question, namely the occurrence rates for features within any given question. It indicates some patterns, most notably the prevalence of wh- and polar questions inquiring about modality, comparison, and quantification are the most common features. \n",
        "\n",
        "For example, the 0.41 between \"f1_modality\" and \"f2_wh-question\" means these features frequently co-occur in individual questions, while the <0.03 between cleft, comparison, and quantification **conditional** questions indicates these features are quite rare."
      ]
    },
    {
      "cell_type": "code",
      "execution_count": 11,
      "metadata": {},
      "outputs": [
        {
          "ename": "FileNotFoundError",
          "evalue": "[Errno 2] No such file or directory: 'questions_with_similarities_miniLM.csv'",
          "output_type": "error",
          "traceback": [
            "\u001b[1;31m---------------------------------------------------------------------------\u001b[0m",
            "\u001b[1;31mFileNotFoundError\u001b[0m                         Traceback (most recent call last)",
            "Cell \u001b[1;32mIn[11], line 10\u001b[0m\n\u001b[0;32m      7\u001b[0m \u001b[38;5;28;01mfrom\u001b[39;00m \u001b[38;5;21;01mscipy\u001b[39;00m\u001b[38;5;21;01m.\u001b[39;00m\u001b[38;5;21;01mcluster\u001b[39;00m\u001b[38;5;21;01m.\u001b[39;00m\u001b[38;5;21;01mhierarchy\u001b[39;00m \u001b[38;5;28;01mimport\u001b[39;00m dendrogram, linkage\n\u001b[0;32m      9\u001b[0m \u001b[38;5;66;03m# Load data\u001b[39;00m\n\u001b[1;32m---> 10\u001b[0m data \u001b[38;5;241m=\u001b[39m \u001b[43mpd\u001b[49m\u001b[38;5;241;43m.\u001b[39;49m\u001b[43mread_csv\u001b[49m\u001b[43m(\u001b[49m\u001b[38;5;124;43m'\u001b[39;49m\u001b[38;5;124;43mquestions_with_similarities_miniLM.csv\u001b[39;49m\u001b[38;5;124;43m'\u001b[39;49m\u001b[43m)\u001b[49m\n\u001b[0;32m     12\u001b[0m \u001b[38;5;66;03m# Get feature columns\u001b[39;00m\n\u001b[0;32m     13\u001b[0m feature_cols \u001b[38;5;241m=\u001b[39m [col \u001b[38;5;28;01mfor\u001b[39;00m col \u001b[38;5;129;01min\u001b[39;00m data\u001b[38;5;241m.\u001b[39mcolumns \u001b[38;5;28;01mif\u001b[39;00m col\u001b[38;5;241m.\u001b[39mstartswith(\u001b[38;5;124m'\u001b[39m\u001b[38;5;124mf1_\u001b[39m\u001b[38;5;124m'\u001b[39m) \u001b[38;5;129;01mor\u001b[39;00m col\u001b[38;5;241m.\u001b[39mstartswith(\u001b[38;5;124m'\u001b[39m\u001b[38;5;124mf2_\u001b[39m\u001b[38;5;124m'\u001b[39m)]\n",
            "File \u001b[1;32mc:\\Users\\robin\\AppData\\Local\\Programs\\Python\\Python312\\Lib\\site-packages\\pandas\\io\\parsers\\readers.py:1026\u001b[0m, in \u001b[0;36mread_csv\u001b[1;34m(filepath_or_buffer, sep, delimiter, header, names, index_col, usecols, dtype, engine, converters, true_values, false_values, skipinitialspace, skiprows, skipfooter, nrows, na_values, keep_default_na, na_filter, verbose, skip_blank_lines, parse_dates, infer_datetime_format, keep_date_col, date_parser, date_format, dayfirst, cache_dates, iterator, chunksize, compression, thousands, decimal, lineterminator, quotechar, quoting, doublequote, escapechar, comment, encoding, encoding_errors, dialect, on_bad_lines, delim_whitespace, low_memory, memory_map, float_precision, storage_options, dtype_backend)\u001b[0m\n\u001b[0;32m   1013\u001b[0m kwds_defaults \u001b[38;5;241m=\u001b[39m _refine_defaults_read(\n\u001b[0;32m   1014\u001b[0m     dialect,\n\u001b[0;32m   1015\u001b[0m     delimiter,\n\u001b[1;32m   (...)\u001b[0m\n\u001b[0;32m   1022\u001b[0m     dtype_backend\u001b[38;5;241m=\u001b[39mdtype_backend,\n\u001b[0;32m   1023\u001b[0m )\n\u001b[0;32m   1024\u001b[0m kwds\u001b[38;5;241m.\u001b[39mupdate(kwds_defaults)\n\u001b[1;32m-> 1026\u001b[0m \u001b[38;5;28;01mreturn\u001b[39;00m \u001b[43m_read\u001b[49m\u001b[43m(\u001b[49m\u001b[43mfilepath_or_buffer\u001b[49m\u001b[43m,\u001b[49m\u001b[43m \u001b[49m\u001b[43mkwds\u001b[49m\u001b[43m)\u001b[49m\n",
            "File \u001b[1;32mc:\\Users\\robin\\AppData\\Local\\Programs\\Python\\Python312\\Lib\\site-packages\\pandas\\io\\parsers\\readers.py:620\u001b[0m, in \u001b[0;36m_read\u001b[1;34m(filepath_or_buffer, kwds)\u001b[0m\n\u001b[0;32m    617\u001b[0m _validate_names(kwds\u001b[38;5;241m.\u001b[39mget(\u001b[38;5;124m\"\u001b[39m\u001b[38;5;124mnames\u001b[39m\u001b[38;5;124m\"\u001b[39m, \u001b[38;5;28;01mNone\u001b[39;00m))\n\u001b[0;32m    619\u001b[0m \u001b[38;5;66;03m# Create the parser.\u001b[39;00m\n\u001b[1;32m--> 620\u001b[0m parser \u001b[38;5;241m=\u001b[39m \u001b[43mTextFileReader\u001b[49m\u001b[43m(\u001b[49m\u001b[43mfilepath_or_buffer\u001b[49m\u001b[43m,\u001b[49m\u001b[43m \u001b[49m\u001b[38;5;241;43m*\u001b[39;49m\u001b[38;5;241;43m*\u001b[39;49m\u001b[43mkwds\u001b[49m\u001b[43m)\u001b[49m\n\u001b[0;32m    622\u001b[0m \u001b[38;5;28;01mif\u001b[39;00m chunksize \u001b[38;5;129;01mor\u001b[39;00m iterator:\n\u001b[0;32m    623\u001b[0m     \u001b[38;5;28;01mreturn\u001b[39;00m parser\n",
            "File \u001b[1;32mc:\\Users\\robin\\AppData\\Local\\Programs\\Python\\Python312\\Lib\\site-packages\\pandas\\io\\parsers\\readers.py:1620\u001b[0m, in \u001b[0;36mTextFileReader.__init__\u001b[1;34m(self, f, engine, **kwds)\u001b[0m\n\u001b[0;32m   1617\u001b[0m     \u001b[38;5;28mself\u001b[39m\u001b[38;5;241m.\u001b[39moptions[\u001b[38;5;124m\"\u001b[39m\u001b[38;5;124mhas_index_names\u001b[39m\u001b[38;5;124m\"\u001b[39m] \u001b[38;5;241m=\u001b[39m kwds[\u001b[38;5;124m\"\u001b[39m\u001b[38;5;124mhas_index_names\u001b[39m\u001b[38;5;124m\"\u001b[39m]\n\u001b[0;32m   1619\u001b[0m \u001b[38;5;28mself\u001b[39m\u001b[38;5;241m.\u001b[39mhandles: IOHandles \u001b[38;5;241m|\u001b[39m \u001b[38;5;28;01mNone\u001b[39;00m \u001b[38;5;241m=\u001b[39m \u001b[38;5;28;01mNone\u001b[39;00m\n\u001b[1;32m-> 1620\u001b[0m \u001b[38;5;28mself\u001b[39m\u001b[38;5;241m.\u001b[39m_engine \u001b[38;5;241m=\u001b[39m \u001b[38;5;28;43mself\u001b[39;49m\u001b[38;5;241;43m.\u001b[39;49m\u001b[43m_make_engine\u001b[49m\u001b[43m(\u001b[49m\u001b[43mf\u001b[49m\u001b[43m,\u001b[49m\u001b[43m \u001b[49m\u001b[38;5;28;43mself\u001b[39;49m\u001b[38;5;241;43m.\u001b[39;49m\u001b[43mengine\u001b[49m\u001b[43m)\u001b[49m\n",
            "File \u001b[1;32mc:\\Users\\robin\\AppData\\Local\\Programs\\Python\\Python312\\Lib\\site-packages\\pandas\\io\\parsers\\readers.py:1880\u001b[0m, in \u001b[0;36mTextFileReader._make_engine\u001b[1;34m(self, f, engine)\u001b[0m\n\u001b[0;32m   1878\u001b[0m     \u001b[38;5;28;01mif\u001b[39;00m \u001b[38;5;124m\"\u001b[39m\u001b[38;5;124mb\u001b[39m\u001b[38;5;124m\"\u001b[39m \u001b[38;5;129;01mnot\u001b[39;00m \u001b[38;5;129;01min\u001b[39;00m mode:\n\u001b[0;32m   1879\u001b[0m         mode \u001b[38;5;241m+\u001b[39m\u001b[38;5;241m=\u001b[39m \u001b[38;5;124m\"\u001b[39m\u001b[38;5;124mb\u001b[39m\u001b[38;5;124m\"\u001b[39m\n\u001b[1;32m-> 1880\u001b[0m \u001b[38;5;28mself\u001b[39m\u001b[38;5;241m.\u001b[39mhandles \u001b[38;5;241m=\u001b[39m \u001b[43mget_handle\u001b[49m\u001b[43m(\u001b[49m\n\u001b[0;32m   1881\u001b[0m \u001b[43m    \u001b[49m\u001b[43mf\u001b[49m\u001b[43m,\u001b[49m\n\u001b[0;32m   1882\u001b[0m \u001b[43m    \u001b[49m\u001b[43mmode\u001b[49m\u001b[43m,\u001b[49m\n\u001b[0;32m   1883\u001b[0m \u001b[43m    \u001b[49m\u001b[43mencoding\u001b[49m\u001b[38;5;241;43m=\u001b[39;49m\u001b[38;5;28;43mself\u001b[39;49m\u001b[38;5;241;43m.\u001b[39;49m\u001b[43moptions\u001b[49m\u001b[38;5;241;43m.\u001b[39;49m\u001b[43mget\u001b[49m\u001b[43m(\u001b[49m\u001b[38;5;124;43m\"\u001b[39;49m\u001b[38;5;124;43mencoding\u001b[39;49m\u001b[38;5;124;43m\"\u001b[39;49m\u001b[43m,\u001b[49m\u001b[43m \u001b[49m\u001b[38;5;28;43;01mNone\u001b[39;49;00m\u001b[43m)\u001b[49m\u001b[43m,\u001b[49m\n\u001b[0;32m   1884\u001b[0m \u001b[43m    \u001b[49m\u001b[43mcompression\u001b[49m\u001b[38;5;241;43m=\u001b[39;49m\u001b[38;5;28;43mself\u001b[39;49m\u001b[38;5;241;43m.\u001b[39;49m\u001b[43moptions\u001b[49m\u001b[38;5;241;43m.\u001b[39;49m\u001b[43mget\u001b[49m\u001b[43m(\u001b[49m\u001b[38;5;124;43m\"\u001b[39;49m\u001b[38;5;124;43mcompression\u001b[39;49m\u001b[38;5;124;43m\"\u001b[39;49m\u001b[43m,\u001b[49m\u001b[43m \u001b[49m\u001b[38;5;28;43;01mNone\u001b[39;49;00m\u001b[43m)\u001b[49m\u001b[43m,\u001b[49m\n\u001b[0;32m   1885\u001b[0m \u001b[43m    \u001b[49m\u001b[43mmemory_map\u001b[49m\u001b[38;5;241;43m=\u001b[39;49m\u001b[38;5;28;43mself\u001b[39;49m\u001b[38;5;241;43m.\u001b[39;49m\u001b[43moptions\u001b[49m\u001b[38;5;241;43m.\u001b[39;49m\u001b[43mget\u001b[49m\u001b[43m(\u001b[49m\u001b[38;5;124;43m\"\u001b[39;49m\u001b[38;5;124;43mmemory_map\u001b[39;49m\u001b[38;5;124;43m\"\u001b[39;49m\u001b[43m,\u001b[49m\u001b[43m \u001b[49m\u001b[38;5;28;43;01mFalse\u001b[39;49;00m\u001b[43m)\u001b[49m\u001b[43m,\u001b[49m\n\u001b[0;32m   1886\u001b[0m \u001b[43m    \u001b[49m\u001b[43mis_text\u001b[49m\u001b[38;5;241;43m=\u001b[39;49m\u001b[43mis_text\u001b[49m\u001b[43m,\u001b[49m\n\u001b[0;32m   1887\u001b[0m \u001b[43m    \u001b[49m\u001b[43merrors\u001b[49m\u001b[38;5;241;43m=\u001b[39;49m\u001b[38;5;28;43mself\u001b[39;49m\u001b[38;5;241;43m.\u001b[39;49m\u001b[43moptions\u001b[49m\u001b[38;5;241;43m.\u001b[39;49m\u001b[43mget\u001b[49m\u001b[43m(\u001b[49m\u001b[38;5;124;43m\"\u001b[39;49m\u001b[38;5;124;43mencoding_errors\u001b[39;49m\u001b[38;5;124;43m\"\u001b[39;49m\u001b[43m,\u001b[49m\u001b[43m \u001b[49m\u001b[38;5;124;43m\"\u001b[39;49m\u001b[38;5;124;43mstrict\u001b[39;49m\u001b[38;5;124;43m\"\u001b[39;49m\u001b[43m)\u001b[49m\u001b[43m,\u001b[49m\n\u001b[0;32m   1888\u001b[0m \u001b[43m    \u001b[49m\u001b[43mstorage_options\u001b[49m\u001b[38;5;241;43m=\u001b[39;49m\u001b[38;5;28;43mself\u001b[39;49m\u001b[38;5;241;43m.\u001b[39;49m\u001b[43moptions\u001b[49m\u001b[38;5;241;43m.\u001b[39;49m\u001b[43mget\u001b[49m\u001b[43m(\u001b[49m\u001b[38;5;124;43m\"\u001b[39;49m\u001b[38;5;124;43mstorage_options\u001b[39;49m\u001b[38;5;124;43m\"\u001b[39;49m\u001b[43m,\u001b[49m\u001b[43m \u001b[49m\u001b[38;5;28;43;01mNone\u001b[39;49;00m\u001b[43m)\u001b[49m\u001b[43m,\u001b[49m\n\u001b[0;32m   1889\u001b[0m \u001b[43m\u001b[49m\u001b[43m)\u001b[49m\n\u001b[0;32m   1890\u001b[0m \u001b[38;5;28;01massert\u001b[39;00m \u001b[38;5;28mself\u001b[39m\u001b[38;5;241m.\u001b[39mhandles \u001b[38;5;129;01mis\u001b[39;00m \u001b[38;5;129;01mnot\u001b[39;00m \u001b[38;5;28;01mNone\u001b[39;00m\n\u001b[0;32m   1891\u001b[0m f \u001b[38;5;241m=\u001b[39m \u001b[38;5;28mself\u001b[39m\u001b[38;5;241m.\u001b[39mhandles\u001b[38;5;241m.\u001b[39mhandle\n",
            "File \u001b[1;32mc:\\Users\\robin\\AppData\\Local\\Programs\\Python\\Python312\\Lib\\site-packages\\pandas\\io\\common.py:873\u001b[0m, in \u001b[0;36mget_handle\u001b[1;34m(path_or_buf, mode, encoding, compression, memory_map, is_text, errors, storage_options)\u001b[0m\n\u001b[0;32m    868\u001b[0m \u001b[38;5;28;01melif\u001b[39;00m \u001b[38;5;28misinstance\u001b[39m(handle, \u001b[38;5;28mstr\u001b[39m):\n\u001b[0;32m    869\u001b[0m     \u001b[38;5;66;03m# Check whether the filename is to be opened in binary mode.\u001b[39;00m\n\u001b[0;32m    870\u001b[0m     \u001b[38;5;66;03m# Binary mode does not support 'encoding' and 'newline'.\u001b[39;00m\n\u001b[0;32m    871\u001b[0m     \u001b[38;5;28;01mif\u001b[39;00m ioargs\u001b[38;5;241m.\u001b[39mencoding \u001b[38;5;129;01mand\u001b[39;00m \u001b[38;5;124m\"\u001b[39m\u001b[38;5;124mb\u001b[39m\u001b[38;5;124m\"\u001b[39m \u001b[38;5;129;01mnot\u001b[39;00m \u001b[38;5;129;01min\u001b[39;00m ioargs\u001b[38;5;241m.\u001b[39mmode:\n\u001b[0;32m    872\u001b[0m         \u001b[38;5;66;03m# Encoding\u001b[39;00m\n\u001b[1;32m--> 873\u001b[0m         handle \u001b[38;5;241m=\u001b[39m \u001b[38;5;28;43mopen\u001b[39;49m\u001b[43m(\u001b[49m\n\u001b[0;32m    874\u001b[0m \u001b[43m            \u001b[49m\u001b[43mhandle\u001b[49m\u001b[43m,\u001b[49m\n\u001b[0;32m    875\u001b[0m \u001b[43m            \u001b[49m\u001b[43mioargs\u001b[49m\u001b[38;5;241;43m.\u001b[39;49m\u001b[43mmode\u001b[49m\u001b[43m,\u001b[49m\n\u001b[0;32m    876\u001b[0m \u001b[43m            \u001b[49m\u001b[43mencoding\u001b[49m\u001b[38;5;241;43m=\u001b[39;49m\u001b[43mioargs\u001b[49m\u001b[38;5;241;43m.\u001b[39;49m\u001b[43mencoding\u001b[49m\u001b[43m,\u001b[49m\n\u001b[0;32m    877\u001b[0m \u001b[43m            \u001b[49m\u001b[43merrors\u001b[49m\u001b[38;5;241;43m=\u001b[39;49m\u001b[43merrors\u001b[49m\u001b[43m,\u001b[49m\n\u001b[0;32m    878\u001b[0m \u001b[43m            \u001b[49m\u001b[43mnewline\u001b[49m\u001b[38;5;241;43m=\u001b[39;49m\u001b[38;5;124;43m\"\u001b[39;49m\u001b[38;5;124;43m\"\u001b[39;49m\u001b[43m,\u001b[49m\n\u001b[0;32m    879\u001b[0m \u001b[43m        \u001b[49m\u001b[43m)\u001b[49m\n\u001b[0;32m    880\u001b[0m     \u001b[38;5;28;01melse\u001b[39;00m:\n\u001b[0;32m    881\u001b[0m         \u001b[38;5;66;03m# Binary mode\u001b[39;00m\n\u001b[0;32m    882\u001b[0m         handle \u001b[38;5;241m=\u001b[39m \u001b[38;5;28mopen\u001b[39m(handle, ioargs\u001b[38;5;241m.\u001b[39mmode)\n",
            "\u001b[1;31mFileNotFoundError\u001b[0m: [Errno 2] No such file or directory: 'questions_with_similarities_miniLM.csv'"
          ]
        }
      ],
      "source": [
        "import pandas as pd\n",
        "import numpy as np\n",
        "import seaborn as sns\n",
        "import matplotlib.pyplot as plt\n",
        "from sklearn.cluster import KMeans\n",
        "from sklearn.preprocessing import StandardScaler\n",
        "from scipy.cluster.hierarchy import dendrogram, linkage\n",
        "\n",
        "# Load data\n",
        "data = pd.read_csv('questions_with_similarities_miniLM.csv')\n",
        "\n",
        "# Get feature columns\n",
        "feature_cols = [col for col in data.columns if col.startswith('f1_') or col.startswith('f2_')]\n",
        "\n",
        "# Create feature co-occurrence matrix\n",
        "co_occurrence = np.zeros((len(feature_cols), len(feature_cols)))\n",
        "\n",
        "# Calculate co-occurrences\n",
        "for i, f1 in enumerate(feature_cols):\n",
        "    for j, f2 in enumerate(feature_cols):\n",
        "        # Calculate normalized co-occurrence\n",
        "        both = ((data[f1] == 1) & (data[f2] == 1)).sum()\n",
        "        total = ((data[f1] == 1) | (data[f2] == 1)).sum()\n",
        "        co_occurrence[i, j] = both/total if total > 0 else 0\n",
        "\n",
        "# Convert to DataFrame for better visualization\n",
        "co_occurrence_df = pd.DataFrame(co_occurrence,\n",
        "                              index=feature_cols,\n",
        "                              columns=feature_cols)\n",
        "\n",
        "feature_similarity = np.zeros((len(feature_cols), len(feature_cols)))\n",
        "\n",
        "plt.figure(figsize=(15, 10))\n",
        "\n",
        "# Plot 1: Feature co-occurrence heatmap\n",
        "plt.figure(figsize=(10, 8))\n",
        "sns.heatmap(co_occurrence_df,\n",
        "            cmap='YlOrRd',\n",
        "            annot=True,\n",
        "            fmt='.2f',\n",
        "            square=True)  # Make cells square\n",
        "plt.title('Feature Co-occurrence Matrix')\n",
        "plt.xticks(rotation=45, ha='right')  # Align rotated labels\n",
        "plt.yticks(rotation=0)\n",
        "\n",
        "\n",
        "\n"
      ]
    },
    {
      "cell_type": "markdown",
      "metadata": {},
      "source": [
        "##### 3. Complexity and Implicature\n",
        "\n",
        " Cleft constructions and comparisons involve intricate syntactic structures that allow speakers to highlight specific elements and draw contrasts, showcasing how languages can manipulate word order and clause structure to convey emphasis and facilitate information-seeking. On the other hand, the co-occurrence of quantification and modality in questions demonstrates how languages employ various strategies to express nuances of quantity, possibility, and certainty, which can give rise to scalar implicatures and convey subtle shades of meaning beyond the literal content of the question. \n",
        "\n",
        " Consider the following example of a cleft question and a question which gives rise to scalar implicature:\n",
        "\n",
        " A. Is it John who is coming later? B. Did some of the students come to the lecture?\n",
        "\n",
        " First question puts emphasis on \"John\" as the focus of the question. It singles out the specific person that the speaker is inquiring about, and the second question demonstrates scalar implicature with the quantifier \"some\". By asking if *some* of the students came to the lecture, the speaker implies that not all of the students attended."
      ]
    },
    {
      "cell_type": "code",
      "execution_count": 24,
      "metadata": {},
      "outputs": [
        {
          "name": "stdout",
          "output_type": "stream",
          "text": [
            "\n",
            "Syntactic Complexity: Cleft Constructions and Comparison\n",
            "Total cleft questions: 7055 (7.2%)\n",
            "Total comparison questions: 17087 (17.4%)\n",
            "Percentage of all questions that are cleft and comparison: 0.9%\n",
            "\n",
            "Language distribution of cleft and comparison questions:\n",
            "id: 38.1%\n",
            "af: 28.4%\n",
            "ar: 24.2%\n",
            "mr: 9.3%\n",
            "\n",
            "Examples of cleft and comparison questions:\n",
            "MR - Cleft Comparison: आपण आपल्या क्षेत्रातील तज्ञ आहात किंवा एखाद्या विशिष्ट विषय किंवा कौशल्याबद्दल आपल्याला सरासरी व्यक्तीपेक्षा अधिक माहिती आहे? | Is it accurate to say that you are a specialist in your field, or do you know more than the normal individual about a particular subject or aptitude?\n",
            "AR - Cleft Comparison: لماذا من الأفضل ، بطريقة ما ، أن يكون مصابًا في محاولة تفجيره من أن يُحكم عليه بالسجن بسبب قيامه بمثل هذه المحاولة؟ | Why is it better, in a way, that he is injured by his attempted bombing than that he is sentenced to jail for having made such an attempt?\n",
            "AF - Cleft Comparison: Noudat jy ouer en meer volwasse is, is dit tyd om jouself te vra: Hoe kon my verhouding met my pa beter gewees het as my ma, my onderwysers en die regstelsel almal aktief gewerk het om hom in my lewe betrokke te maak en te maak Hy voel verwelkom en waardeer? | Now that you're older and more mature, it's time to ask yourself: How could my relationship with my father have been better if my mother, my teachers and the legal system had all actively worked to keep him involved in my life and to make him feel welcomed and appreciated?\n",
            "ID - Cleft Comparison: Apakah mungkin bahwa usia Anda yang sebenarnya hanya berbeda? | Is it possible that your true age is simply different?\n",
            "\n",
            "Scalar Implicature: Quantification and Modality\n",
            "Total quantification questions: 22293 (22.7%)\n",
            "Total modality questions: 53357 (54.4%)\n",
            "Percentage of all questions that are quantification and modality: 6.5%\n",
            "\n",
            "Language distribution of quantification and modality questions:\n",
            "id: 36.6%\n",
            "ar: 25.2%\n",
            "af: 20.2%\n",
            "mr: 18.0%\n",
            "\n",
            "Examples of quantification and modality questions:\n",
            "MR - Quantification Modality: मला या व्यवहारावर किती कर भरावा लागेल? | How much should I be charging for this type of deal?\n",
            "AR - Quantification Modality: لكن دعونا نكون صادقين ، فكم مننا يستطيع أن يدعي أن العديد من رؤساءنا السابقين كانوا مرشدين ممتازين ، في حين أن 18 في المائة فقط من المديرين لديهم \"درجة عالية\" لإدارة المواهب؟ | But let’s be honest, how many of us can claim that many of our past bosses were great mentors, when only 18 percent of managers have a “high degree” for managing talent?\n",
            "AF - Quantification Modality: Hoeveel van julle sal julle oë bedek? | How many of you will cover your eyes?\n",
            "ID - Quantification Modality: - Apa sajakah cara agar Anda bisa berbelas kasih dan memperlihatkan \"buah-buah yang baik\" pada orang lain? | What are some ways you can be merciful and show “good fruit” to others?\n"
          ]
        },
        {
          "data": {
            "image/png": "[encoded data removed]",
            "text/plain": [
              "<Figure size 600x400 with 2 Axes>"
            ]
          },
          "metadata": {},
          "output_type": "display_data"
        },
        {
          "data": {
            "image/png": "[encoded data removed]",
            "text/plain": [
              "<Figure size 600x400 with 2 Axes>"
            ]
          },
          "metadata": {},
          "output_type": "display_data"
        }
      ],
      "source": [
        "import pandas as pd\n",
        "import seaborn as sns\n",
        "import matplotlib.pyplot as plt\n",
        "\n",
        "# Syntactic Complexity: Cleft Constructions and Comparison\n",
        "print(\"\\nSyntactic Complexity: Cleft Constructions and Comparison\")\n",
        "cleft_comparison = len(data[(data['f1_cleft_wh'] == 1) & (data['f1_comparison'] == 1)])\n",
        "total_cleft = len(data[data['f1_cleft_wh'] == 1])\n",
        "total_comparison = len(data[data['f1_comparison'] == 1])\n",
        "total_questions = len(data)\n",
        "\n",
        "print(f\"Total cleft questions: {total_cleft} ({total_cleft/total_questions*100:.1f}%)\")\n",
        "print(f\"Total comparison questions: {total_comparison} ({total_comparison/total_questions*100:.1f}%)\")\n",
        "print(f\"Percentage of all questions that are cleft and comparison: {cleft_comparison/total_questions*100:.1f}%\")\n",
        "\n",
        "print(\"\\nLanguage distribution of cleft and comparison questions:\")\n",
        "cleft_comparison_lang_dist = data[(data['f1_cleft_wh'] == 1) & (data['f1_comparison'] == 1)]['language'].value_counts(normalize=True) * 100\n",
        "for lang, pct in cleft_comparison_lang_dist.items():\n",
        "    print(f\"{lang}: {pct:.1f}%\")\n",
        "\n",
        "print(\"\\nExamples of cleft and comparison questions:\")\n",
        "for lang in data['language'].unique():\n",
        "    cleft_comparison_example = data[(data['language'] == lang) & (data['f1_cleft_wh'] == 1) & (data['f1_comparison'] == 1)].sample(1)\n",
        "    if not cleft_comparison_example.empty:\n",
        "        print(f\"{lang.upper()} - Cleft Comparison: {cleft_comparison_example['source'].values[0]} | {cleft_comparison_example['target'].values[0]}\")\n",
        "\n",
        "# Scalar Implicature: Quantification and Modality\n",
        "print(\"\\nScalar Implicature: Quantification and Modality\")\n",
        "quant_modality = len(data[(data['f1_quantification'] == 1) & (data['f1_modality'] == 1)])\n",
        "total_quant = len(data[data['f1_quantification'] == 1])\n",
        "total_modality = len(data[data['f1_modality'] == 1])\n",
        "total_questions = len(data)\n",
        "\n",
        "print(f\"Total quantification questions: {total_quant} ({total_quant/total_questions*100:.1f}%)\")\n",
        "print(f\"Total modality questions: {total_modality} ({total_modality/total_questions*100:.1f}%)\")\n",
        "print(f\"Percentage of all questions that are quantification and modality: {quant_modality/total_questions*100:.1f}%\")\n",
        "\n",
        "print(\"\\nLanguage distribution of quantification and modality questions:\")\n",
        "quant_modality_lang_dist = data[(data['f1_quantification'] == 1) & (data['f1_modality'] == 1)]['language'].value_counts(normalize=True) * 100\n",
        "for lang, pct in quant_modality_lang_dist.items():\n",
        "    print(f\"{lang}: {pct:.1f}%\")\n",
        "\n",
        "print(\"\\nExamples of quantification and modality questions:\")\n",
        "for lang in data['language'].unique():\n",
        "    quant_modality_example = data[(data['language'] == lang) & (data['f1_quantification'] == 1) & (data['f1_modality'] == 1)].sample(1)\n",
        "    if not quant_modality_example.empty:\n",
        "        print(f\"{lang.upper()} - Quantification Modality: {quant_modality_example['source'].values[0]} | {quant_modality_example['target'].values[0]}\")\n",
        "\n",
        "co_occurrence_data = pd.crosstab(data['f1_cleft_wh'] | data['f1_comparison'], data['f1_quantification'] | data['f1_modality'])\n",
        "co_occurrence_data = co_occurrence_data.div(co_occurrence_data.sum().sum())\n",
        "\n",
        "complexity_data = pd.crosstab(data['f1_cleft_wh'], data['f1_comparison'])\n",
        "complexity_data = complexity_data.div(complexity_data.sum().sum())\n",
        "\n",
        "plt.figure(figsize=(6, 4))\n",
        "sns.heatmap(complexity_data, annot=True, cmap='YlGnBu', fmt='.1%', cbar_kws={'format': '%.0f%%'})\n",
        "plt.title('Co-occurrence of Syntactic Complexity Features')\n",
        "plt.xlabel('Comparison')\n",
        "plt.ylabel('Cleft Constructions')\n",
        "plt.show()\n",
        "\n",
        "implicature_data = pd.crosstab(data['f1_quantification'], data['f1_modality'])\n",
        "implicature_data = implicature_data.div(implicature_data.sum().sum())\n",
        "\n",
        "plt.figure(figsize=(6, 4))\n",
        "sns.heatmap(implicature_data, annot=True, cmap='YlOrRd', fmt='.1%', cbar_kws={'format': '%.0f%%'})\n",
        "plt.title('Co-occurrence of Scalar Implicature Features')\n",
        "plt.xlabel('Modality')\n",
        "plt.ylabel('Quantification')\n",
        "plt.show()\n"
      ]
    },
    {
      "cell_type": "code",
      "execution_count": null,
      "metadata": {},
      "outputs": [],
      "source": []
    },
    {
      "cell_type": "markdown",
      "metadata": {},
      "source": [
        "These results suggest that while the co-occurrence of cleft constructions and comparisons is relatively uncommon, the individual features are still notable in questions. On the other hand, quantification and modality have a higher co-occurrence and are more prevalent in questions across the languages studied.\n",
        "The language-specific patterns hint at potential typological differences in how these features are employed in questions. Indonesian consistently shows the highest proportions, indicating a greater tendency to use these complex structures in questions compared to the other languages.\n",
        "To gain further insights, it would be valuable to examine more examples and consider the specific semantic and pragmatic contexts in which these feature combinations occur. Additionally, extending the analysis to a wider range of languages could reveal broader cross-linguistic trends in the use of syntactic complexity and scalar implicature in questions."
      ]
    },
    {
      "cell_type": "markdown",
      "metadata": {
        "id": "7ZNzBwmmkmRQ"
      },
      "source": [
        "## Results and summary\n",
        "\n",
        "Our analysis reveals several key findings about how multilingual language models represent semantically similar questions.For one, the paraphrase-multilingual-MiniLM-L12-v2 model demonstrated strong cross-lingual semantic alignment, with an overall mean similarity score of 0.805 across all question translation pairs. This performance varied by language, with Indonesian and Arabic showing particularly robust semantic alignment (0.920 and 0.894 respectively). Notably, the model's performance on questions was slightly lower compared to general sentences, with this effect being most pronounced in Afrikaans and Marathi.\n",
        "\n",
        "Analysing feature-specific patterns, we observed consistent trends across languages. Negation consistently demonstrated a small but measurable negative impact on similarity scores across all language pairs, suggesting a universal effect on semantic representation.\n",
        "\n",
        "The findings of this study provide empirical evidence for both convergence and divergence in the semantic representations of questions in the \"paraphrase-multilingual-MiniLM-L12-v2\" model. With similar, but wider studies we can attempt to develop better interpretations of how multilingual LLMs encode meaning across languages and offer insights for improving cross-lingual NLP applications. Furthermore, the study highlights the importance of integrating linguistic knowledge into the development and evaluation of multilingual sentence embedding models."
      ]
    },
    {
      "cell_type": "markdown",
      "metadata": {},
      "source": [
        "## References\n",
        "\n",
        "Devlin, Jacob, Ming-Wei Chang, Kenton Lee, and Kristina Toutanova. \"BERT: Pre-training of Deep Bidirectional Transformers for...source 4171–86. Minneapolis, Minnesota: Association for Computational Linguistics. (2019)\n",
        "\n",
        "Harris, C.R., Millman, K.J., van der Walt, S.J. et al. Array programming with NumPy. Nature 585, 357–362 (2020). DOI: 10.1038/s41586-020-2649-2.\n",
        "\n",
        "Jurafsky, Daniel, and James H. Martin. Speech and Language Processing. 3rd ed. (2024) Draft chapters available at https://web.stanford.edu/~jurafsky/slp3/.\n",
        "\n",
        "Reimers, Nils, and Iryna Gurevych. \"Sentence-BERT: Sentence Embeddings using Siamese BERT-Networks.\" In Proceedings of the 2019 EMNLP-IJCNLP, 3982–92. Hong Kong, China: Association for Computational Linguistics. (2019) \n",
        "\n",
        "Schwenk, Holger, Guillaume Wenzek, Sergey Edunov, Edouard Grave, and Armand Joulin. \"CCMatrix: Mining Billions of High-Quality Parallel Sentences on the WEB.\" arXiv preprint (2020) arXiv:1911.04944 \n",
        "\n",
        "Tiedemann, Jörg.\"Parallel Data, Tools and Interfaces in OPUS.\" In Proceedings of the Eighth International Conference on Language Resources and Evaluation (LREC'12), 2214–18. Istanbul, Turkey: European Language Resources Association (ELRA).  (2012) https://opus.nlpl.eu/NLLB/corpus/version/NLLB"
      ]
    },
    {
      "cell_type": "code",
      "execution_count": null,
      "metadata": {},
      "outputs": [],
      "source": []
    }
  ],
  "metadata": {
    "accelerator": "GPU",
    "colab": {
      "gpuType": "T4",
      "provenance": []
    },
    "kernelspec": {
      "display_name": "Python 3",
      "name": "python3"
    },
    "language_info": {
      "codemirror_mode": {
        "name": "ipython",
        "version": 3
      },
      "file_extension": ".py",
      "mimetype": "text/x-python",
      "name": "python",
      "nbconvert_exporter": "python",
      "pygments_lexer": "ipython3",
      "version": "3.12.5"
    },
    "widgets": {
      "application/vnd.jupyter.widget-state+json": {
        "1c302c70902e4e9f96145c346904da4f": {
          "model_module": "@jupyter-widgets/controls",
          "model_module_version": "1.5.0",
          "model_name": "HTMLModel",
          "state": {
            "_dom_classes": [],
            "_model_module": "@jupyter-widgets/controls",
            "_model_module_version": "1.5.0",
            "_model_name": "HTMLModel",
            "_view_count": null,
            "_view_module": "@jupyter-widgets/controls",
            "_view_module_version": "1.5.0",
            "_view_name": "HTMLView",
            "description": "",
            "description_tooltip": null,
            "layout": "IPY_MODEL_9272c43e08534157b5fb8c63b32ee86b",
            "placeholder": "​",
            "style": "IPY_MODEL_daa7ea1e94d4420d89d7f7f36f2052df",
            "value": "Batches:  11%"
          }
        },
        "1eb017ebbe1c4802b90578ff54ac9673": {
          "model_module": "@jupyter-widgets/controls",
          "model_module_version": "1.5.0",
          "model_name": "DescriptionStyleModel",
          "state": {
            "_model_module": "@jupyter-widgets/controls",
            "_model_module_version": "1.5.0",
            "_model_name": "DescriptionStyleModel",
            "_view_count": null,
            "_view_module": "@jupyter-widgets/base",
            "_view_module_version": "1.2.0",
            "_view_name": "StyleView",
            "description_width": ""
          }
        },
        "3efb488e15734fc39fddc4517daefe7b": {
          "model_module": "@jupyter-widgets/base",
          "model_module_version": "1.2.0",
          "model_name": "LayoutModel",
          "state": {
            "_model_module": "@jupyter-widgets/base",
            "_model_module_version": "1.2.0",
            "_model_name": "LayoutModel",
            "_view_count": null,
            "_view_module": "@jupyter-widgets/base",
            "_view_module_version": "1.2.0",
            "_view_name": "LayoutView",
            "align_content": null,
            "align_items": null,
            "align_self": null,
            "border": null,
            "bottom": null,
            "display": null,
            "flex": null,
            "flex_flow": null,
            "grid_area": null,
            "grid_auto_columns": null,
            "grid_auto_flow": null,
            "grid_auto_rows": null,
            "grid_column": null,
            "grid_gap": null,
            "grid_row": null,
            "grid_template_areas": null,
            "grid_template_columns": null,
            "grid_template_rows": null,
            "height": null,
            "justify_content": null,
            "justify_items": null,
            "left": null,
            "margin": null,
            "max_height": null,
            "max_width": null,
            "min_height": null,
            "min_width": null,
            "object_fit": null,
            "object_position": null,
            "order": null,
            "overflow": null,
            "overflow_x": null,
            "overflow_y": null,
            "padding": null,
            "right": null,
            "top": null,
            "visibility": null,
            "width": null
          }
        },
        "5500c217799948a2827dd30041bb57c7": {
          "model_module": "@jupyter-widgets/controls",
          "model_module_version": "1.5.0",
          "model_name": "HBoxModel",
          "state": {
            "_dom_classes": [],
            "_model_module": "@jupyter-widgets/controls",
            "_model_module_version": "1.5.0",
            "_model_name": "HBoxModel",
            "_view_count": null,
            "_view_module": "@jupyter-widgets/controls",
            "_view_module_version": "1.5.0",
            "_view_name": "HBoxView",
            "box_style": "",
            "children": [
              "IPY_MODEL_1c302c70902e4e9f96145c346904da4f",
              "IPY_MODEL_cdfda055b5034d8d864430449bbe5a81",
              "IPY_MODEL_f62f2b0f602b463fad07409bfd8628a6"
            ],
            "layout": "IPY_MODEL_ea9a8eb6d6174450b81094b722987fab"
          }
        },
        "9272c43e08534157b5fb8c63b32ee86b": {
          "model_module": "@jupyter-widgets/base",
          "model_module_version": "1.2.0",
          "model_name": "LayoutModel",
          "state": {
            "_model_module": "@jupyter-widgets/base",
            "_model_module_version": "1.2.0",
            "_model_name": "LayoutModel",
            "_view_count": null,
            "_view_module": "@jupyter-widgets/base",
            "_view_module_version": "1.2.0",
            "_view_name": "LayoutView",
            "align_content": null,
            "align_items": null,
            "align_self": null,
            "border": null,
            "bottom": null,
            "display": null,
            "flex": null,
            "flex_flow": null,
            "grid_area": null,
            "grid_auto_columns": null,
            "grid_auto_flow": null,
            "grid_auto_rows": null,
            "grid_column": null,
            "grid_gap": null,
            "grid_row": null,
            "grid_template_areas": null,
            "grid_template_columns": null,
            "grid_template_rows": null,
            "height": null,
            "justify_content": null,
            "justify_items": null,
            "left": null,
            "margin": null,
            "max_height": null,
            "max_width": null,
            "min_height": null,
            "min_width": null,
            "object_fit": null,
            "object_position": null,
            "order": null,
            "overflow": null,
            "overflow_x": null,
            "overflow_y": null,
            "padding": null,
            "right": null,
            "top": null,
            "visibility": null,
            "width": null
          }
        },
        "b92ca582c9864cd48f1040132fa33853": {
          "model_module": "@jupyter-widgets/base",
          "model_module_version": "1.2.0",
          "model_name": "LayoutModel",
          "state": {
            "_model_module": "@jupyter-widgets/base",
            "_model_module_version": "1.2.0",
            "_model_name": "LayoutModel",
            "_view_count": null,
            "_view_module": "@jupyter-widgets/base",
            "_view_module_version": "1.2.0",
            "_view_name": "LayoutView",
            "align_content": null,
            "align_items": null,
            "align_self": null,
            "border": null,
            "bottom": null,
            "display": null,
            "flex": null,
            "flex_flow": null,
            "grid_area": null,
            "grid_auto_columns": null,
            "grid_auto_flow": null,
            "grid_auto_rows": null,
            "grid_column": null,
            "grid_gap": null,
            "grid_row": null,
            "grid_template_areas": null,
            "grid_template_columns": null,
            "grid_template_rows": null,
            "height": null,
            "justify_content": null,
            "justify_items": null,
            "left": null,
            "margin": null,
            "max_height": null,
            "max_width": null,
            "min_height": null,
            "min_width": null,
            "object_fit": null,
            "object_position": null,
            "order": null,
            "overflow": null,
            "overflow_x": null,
            "overflow_y": null,
            "padding": null,
            "right": null,
            "top": null,
            "visibility": null,
            "width": null
          }
        },
        "cdfda055b5034d8d864430449bbe5a81": {
          "model_module": "@jupyter-widgets/controls",
          "model_module_version": "1.5.0",
          "model_name": "FloatProgressModel",
          "state": {
            "_dom_classes": [],
            "_model_module": "@jupyter-widgets/controls",
            "_model_module_version": "1.5.0",
            "_model_name": "FloatProgressModel",
            "_view_count": null,
            "_view_module": "@jupyter-widgets/controls",
            "_view_module_version": "1.5.0",
            "_view_name": "ProgressView",
            "bar_style": "danger",
            "description": "",
            "description_tooltip": null,
            "layout": "IPY_MODEL_b92ca582c9864cd48f1040132fa33853",
            "max": 3064,
            "min": 0,
            "orientation": "horizontal",
            "style": "IPY_MODEL_e90312fc16844534b8e761107c402963",
            "value": 325
          }
        },
        "daa7ea1e94d4420d89d7f7f36f2052df": {
          "model_module": "@jupyter-widgets/controls",
          "model_module_version": "1.5.0",
          "model_name": "DescriptionStyleModel",
          "state": {
            "_model_module": "@jupyter-widgets/controls",
            "_model_module_version": "1.5.0",
            "_model_name": "DescriptionStyleModel",
            "_view_count": null,
            "_view_module": "@jupyter-widgets/base",
            "_view_module_version": "1.2.0",
            "_view_name": "StyleView",
            "description_width": ""
          }
        },
        "e90312fc16844534b8e761107c402963": {
          "model_module": "@jupyter-widgets/controls",
          "model_module_version": "1.5.0",
          "model_name": "ProgressStyleModel",
          "state": {
            "_model_module": "@jupyter-widgets/controls",
            "_model_module_version": "1.5.0",
            "_model_name": "ProgressStyleModel",
            "_view_count": null,
            "_view_module": "@jupyter-widgets/base",
            "_view_module_version": "1.2.0",
            "_view_name": "StyleView",
            "bar_color": null,
            "description_width": ""
          }
        },
        "ea9a8eb6d6174450b81094b722987fab": {
          "model_module": "@jupyter-widgets/base",
          "model_module_version": "1.2.0",
          "model_name": "LayoutModel",
          "state": {
            "_model_module": "@jupyter-widgets/base",
            "_model_module_version": "1.2.0",
            "_model_name": "LayoutModel",
            "_view_count": null,
            "_view_module": "@jupyter-widgets/base",
            "_view_module_version": "1.2.0",
            "_view_name": "LayoutView",
            "align_content": null,
            "align_items": null,
            "align_self": null,
            "border": null,
            "bottom": null,
            "display": null,
            "flex": null,
            "flex_flow": null,
            "grid_area": null,
            "grid_auto_columns": null,
            "grid_auto_flow": null,
            "grid_auto_rows": null,
            "grid_column": null,
            "grid_gap": null,
            "grid_row": null,
            "grid_template_areas": null,
            "grid_template_columns": null,
            "grid_template_rows": null,
            "height": null,
            "justify_content": null,
            "justify_items": null,
            "left": null,
            "margin": null,
            "max_height": null,
            "max_width": null,
            "min_height": null,
            "min_width": null,
            "object_fit": null,
            "object_position": null,
            "order": null,
            "overflow": null,
            "overflow_x": null,
            "overflow_y": null,
            "padding": null,
            "right": null,
            "top": null,
            "visibility": null,
            "width": null
          }
        },
        "f62f2b0f602b463fad07409bfd8628a6": {
          "model_module": "@jupyter-widgets/controls",
          "model_module_version": "1.5.0",
          "model_name": "HTMLModel",
          "state": {
            "_dom_classes": [],
            "_model_module": "@jupyter-widgets/controls",
            "_model_module_version": "1.5.0",
            "_model_name": "HTMLModel",
            "_view_count": null,
            "_view_module": "@jupyter-widgets/controls",
            "_view_module_version": "1.5.0",
            "_view_name": "HTMLView",
            "description": "",
            "description_tooltip": null,
            "layout": "IPY_MODEL_3efb488e15734fc39fddc4517daefe7b",
            "placeholder": "​",
            "style": "IPY_MODEL_1eb017ebbe1c4802b90578ff54ac9673",
            "value": " 325/3064 [09:52&lt;1:18:03,  1.71s/it]"
          }
        }
      }
    }
  },
  "nbformat": 4,
  "nbformat_minor": 0
}
